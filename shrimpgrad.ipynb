{
 "cells": [
  {
   "cell_type": "code",
   "execution_count": 1,
   "id": "f00a336f-6fc1-4b9b-8440-690614d73f80",
   "metadata": {
    "tags": []
   },
   "outputs": [
    {
     "ename": "ModuleNotFoundError",
     "evalue": "No module named 'shrimpgrad.value'",
     "output_type": "error",
     "traceback": [
      "\u001b[0;31m---------------------------------------------------------------------------\u001b[0m",
      "\u001b[0;31mModuleNotFoundError\u001b[0m                       Traceback (most recent call last)",
      "Cell \u001b[0;32mIn[1], line 4\u001b[0m\n\u001b[1;32m      1\u001b[0m get_ipython()\u001b[38;5;241m.\u001b[39mrun_line_magic(\u001b[38;5;124m'\u001b[39m\u001b[38;5;124mload_ext\u001b[39m\u001b[38;5;124m'\u001b[39m, \u001b[38;5;124m'\u001b[39m\u001b[38;5;124mautoreload\u001b[39m\u001b[38;5;124m'\u001b[39m)\n\u001b[1;32m      2\u001b[0m get_ipython()\u001b[38;5;241m.\u001b[39mrun_line_magic(\u001b[38;5;124m'\u001b[39m\u001b[38;5;124mautoreload\u001b[39m\u001b[38;5;124m'\u001b[39m, \u001b[38;5;124m'\u001b[39m\u001b[38;5;124m2\u001b[39m\u001b[38;5;124m'\u001b[39m)\n\u001b[0;32m----> 4\u001b[0m \u001b[38;5;28;01mfrom\u001b[39;00m \u001b[38;5;21;01mshrimpgrad\u001b[39;00m\u001b[38;5;21;01m.\u001b[39;00m\u001b[38;5;21;01mvalue\u001b[39;00m \u001b[38;5;28;01mimport\u001b[39;00m Value\n\u001b[1;32m      5\u001b[0m \u001b[38;5;28;01mfrom\u001b[39;00m \u001b[38;5;21;01mshrimpgrad\u001b[39;00m\u001b[38;5;21;01m.\u001b[39;00m\u001b[38;5;21;01mgraph\u001b[39;00m \u001b[38;5;28;01mimport\u001b[39;00m build_graph\n\u001b[1;32m      6\u001b[0m \u001b[38;5;28;01mfrom\u001b[39;00m \u001b[38;5;21;01mshrimpgrad\u001b[39;00m\u001b[38;5;21;01m.\u001b[39;00m\u001b[38;5;21;01mmlp\u001b[39;00m \u001b[38;5;28;01mimport\u001b[39;00m Neuron, Layer, MLP\n",
      "\u001b[0;31mModuleNotFoundError\u001b[0m: No module named 'shrimpgrad.value'"
     ]
    }
   ],
   "source": [
    "%load_ext autoreload\n",
    "%autoreload 2\n",
    "\n",
    "from shrimpgrad.graph import build_graph\n",
    "from shrimpgrad.mlp import Neuron, Layer, MLP\n",
    "from shrimpgrad.tensor import Tensor\n",
    "import numpy as np"
   ]
  },
  {
   "cell_type": "code",
   "execution_count": 208,
   "id": "1731ea69-68e9-4e77-9de3-f79c4cbfa2ce",
   "metadata": {},
   "outputs": [],
   "source": [
    "mlp = MLP(3, [4,4,1])"
   ]
  },
  {
   "cell_type": "code",
   "execution_count": 209,
   "id": "a9d56f12-3328-4cb2-aafe-710623160e4b",
   "metadata": {},
   "outputs": [],
   "source": [
    "xs = [[2.0, 3.0, -1.0],\n",
    "     [3.0, -1.0, 0.5],\n",
    "     [0.5, 1.0, 1.0],\n",
    "     [1.0, 1.0, -1.0]]\n",
    "\n",
    "ys = [1.0, -1.0, -1.0, 1.0]"
   ]
  },
  {
   "cell_type": "code",
   "execution_count": 238,
   "id": "c8ec81e6-d4e7-4c95-8394-37e9a6aeebfc",
   "metadata": {},
   "outputs": [],
   "source": [
    "def gradient_descent(xs, ys, epochs=10, lr=1e-1):\n",
    "    for k in range(epochs):\n",
    "        # forward pass\n",
    "        ypred = [mlp(x) for x in xs]\n",
    "        mse_loss = sum([(ygt - yout)**2 for ygt, yout in zip(ys, ypred)])\n",
    "    \n",
    "        # zero-grad\n",
    "        for p in mlp.parameters():\n",
    "            p.grad = 0.0\n",
    "            \n",
    "        # backward pass\n",
    "        mse_loss.backward()\n",
    "    \n",
    "        # update \n",
    "        for p in mlp.parameters():\n",
    "            p.data += -lr * p.grad \n",
    "    \n",
    "        print(f'epoch={k}, loss={mse_loss}')\n",
    "    return ypred"
   ]
  },
  {
   "cell_type": "code",
   "execution_count": 247,
   "id": "337292e6-986b-4191-a439-94f654939c05",
   "metadata": {},
   "outputs": [
    {
     "name": "stdout",
     "output_type": "stream",
     "text": [
      "epoch=0, loss=Value(data=0.00020268007130638677)\n",
      "epoch=1, loss=Value(data=0.00019940024920770593)\n",
      "epoch=2, loss=Value(data=0.00019622245602303985)\n",
      "epoch=3, loss=Value(data=0.00019314204525431675)\n",
      "epoch=4, loss=Value(data=0.0001901546470580934)\n",
      "epoch=5, loss=Value(data=0.00018725614801255096)\n",
      "epoch=6, loss=Value(data=0.00018444267263147506)\n",
      "epoch=7, loss=Value(data=0.00018171056645196557)\n",
      "epoch=8, loss=Value(data=0.00017905638054193778)\n",
      "epoch=9, loss=Value(data=0.00017647685729043624)\n",
      "epoch=10, loss=Value(data=0.00017396891735864511)\n",
      "epoch=11, loss=Value(data=0.00017152964768272472)\n",
      "epoch=12, loss=Value(data=0.00016915629043078481)\n",
      "epoch=13, loss=Value(data=0.00016684623282700698)\n",
      "epoch=14, loss=Value(data=0.00016459699776427594)\n",
      "epoch=15, loss=Value(data=0.00016240623513536206)\n",
      "epoch=16, loss=Value(data=0.0001602717138190696)\n",
      "epoch=17, loss=Value(data=0.00015819131426470352)\n",
      "epoch=18, loss=Value(data=0.00015616302162316202)\n",
      "epoch=19, loss=Value(data=0.00015418491937848347)\n"
     ]
    },
    {
     "data": {
      "text/plain": [
       "[Value(data=0.9926057640527444),\n",
       " Value(data=-0.9934527671283018),\n",
       " Value(data=-0.9924868925767772),\n",
       " Value(data=0.9995559811877123)]"
      ]
     },
     "execution_count": 247,
     "metadata": {},
     "output_type": "execute_result"
    }
   ],
   "source": [
    "gradient_descent(xs, ys, epochs=20, lr=1.5)"
   ]
  },
  {
   "cell_type": "code",
   "execution_count": null,
   "id": "a8e5811c-b88e-4315-aff4-35768690fa61",
   "metadata": {},
   "outputs": [],
   "source": []
  }
 ],
 "metadata": {
  "kernelspec": {
   "display_name": "Python 3 (ipykernel)",
   "language": "python",
   "name": "python3"
  },
  "language_info": {
   "codemirror_mode": {
    "name": "ipython",
    "version": 3
   },
   "file_extension": ".py",
   "mimetype": "text/x-python",
   "name": "python",
   "nbconvert_exporter": "python",
   "pygments_lexer": "ipython3",
   "version": "3.11.5"
  }
 },
 "nbformat": 4,
 "nbformat_minor": 5
}
