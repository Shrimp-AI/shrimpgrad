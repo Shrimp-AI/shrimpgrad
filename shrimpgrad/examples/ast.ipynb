{
 "cells": [
  {
   "cell_type": "code",
   "execution_count": 1,
   "id": "2cab0e27-db5e-4e0d-8f17-06ee011afa9e",
   "metadata": {
    "tags": []
   },
   "outputs": [],
   "source": [
    "from shrimpgrad import Tensor, nn, dtypes\n",
    "from shrimpgrad.engine.lower import lower, print_ast, graph_schedule\n",
    "from shrimpgrad.nn import Linear\n",
    "import ctypes"
   ]
  },
  {
   "cell_type": "code",
   "execution_count": 2,
   "id": "66bfe463-db2b-4340-954c-cfd481c70c08",
   "metadata": {
    "tags": []
   },
   "outputs": [
    {
     "name": "stdout",
     "output_type": "stream",
     "text": [
      "{<THUNK <shrimpgrad.device.ClangDevice object at 0x108dc6950> (2, 2) float32 BinaryOps.ADD>: None, <THUNK <shrimpgrad.device.ClangDevice object at 0x108dc6950> (2, 2) float32 LoadOps.COPY>: None, <THUNK <shrimpgrad.device.ClangDevice object at 0x108dc6950> (2, 2) float32 LoadOps.COPY>: None}\n",
      "{<THUNK <shrimpgrad.device.ClangDevice object at 0x108dc6950> (2, 2) float32 BinaryOps.ADD>: None, <THUNK <shrimpgrad.device.ClangDevice object at 0x108dc6950> (2, 2) float32 LoadOps.COPY>: None, <THUNK <shrimpgrad.device.ClangDevice object at 0x108dc6950> (2, 2) float32 LoadOps.COPY>: None}\n",
      "defaultdict(<class 'dict'>, {<THUNK <shrimpgrad.device.ClangDevice object at 0x108dc6950> (2, 2) float32 LoadOps.COPY>: {<THUNK <shrimpgrad.device.ClangDevice object at 0x108dc6950> (2, 2) float32 BinaryOps.ADD>: None}, <THUNK <shrimpgrad.device.CPU object at 0x1082ef5d0> (2, 2) float32 LoadOps.EMPTY>: {<THUNK <shrimpgrad.device.ClangDevice object at 0x108dc6950> (2, 2) float32 LoadOps.COPY>: None}, <THUNK <shrimpgrad.device.ClangDevice object at 0x108dc6950> (2, 2) float32 LoadOps.COPY>: {<THUNK <shrimpgrad.device.ClangDevice object at 0x108dc6950> (2, 2) float32 BinaryOps.ADD>: None}, <THUNK <shrimpgrad.device.CPU object at 0x1082ef5d0> (2, 2) float32 LoadOps.EMPTY>: {<THUNK <shrimpgrad.device.ClangDevice object at 0x108dc6950> (2, 2) float32 LoadOps.COPY>: None}})\n"
     ]
    }
   ],
   "source": [
    "x = Tensor.zeros((2,2))\n",
    "y = Tensor.ones((2,2))\n",
    "z = x + y\n",
    "graph_schedule([z.thunk], set())"
   ]
  },
  {
   "cell_type": "code",
   "execution_count": null,
   "id": "2578484b-35ac-4b19-98f9-9fdbbfb83a5b",
   "metadata": {},
   "outputs": [],
   "source": []
  }
 ],
 "metadata": {
  "kernelspec": {
   "display_name": "Python 3 (ipykernel)",
   "language": "python",
   "name": "python3"
  },
  "language_info": {
   "codemirror_mode": {
    "name": "ipython",
    "version": 3
   },
   "file_extension": ".py",
   "mimetype": "text/x-python",
   "name": "python",
   "nbconvert_exporter": "python",
   "pygments_lexer": "ipython3",
   "version": "3.11.5"
  }
 },
 "nbformat": 4,
 "nbformat_minor": 5
}
