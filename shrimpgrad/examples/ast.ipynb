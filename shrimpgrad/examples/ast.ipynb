{
 "cells": [
  {
   "cell_type": "code",
   "execution_count": 12,
   "id": "2cab0e27-db5e-4e0d-8f17-06ee011afa9e",
   "metadata": {
    "tags": []
   },
   "outputs": [],
   "source": [
    "from shrimpgrad import Tensor, nn, dtypes\n",
    "from shrimpgrad.future import Thunk, print_ast\n",
    "from shrimpgrad.nn import Linear\n",
    "import ctypes"
   ]
  },
  {
   "cell_type": "code",
   "execution_count": 17,
   "id": "66bfe463-db2b-4340-954c-cfd481c70c08",
   "metadata": {
    "tags": []
   },
   "outputs": [],
   "source": [
    "x = Tensor.zeros((2,2))\n",
    "y = Tensor.ones((2,2))\n",
    "z = Linear(2,2)(x) + y"
   ]
  },
  {
   "cell_type": "code",
   "execution_count": 18,
   "id": "230252fe-dd04-404d-af4a-1bebdf857f32",
   "metadata": {
    "tags": []
   },
   "outputs": [
    {
     "name": "stdout",
     "output_type": "stream",
     "text": [
      "  0 ━┳ ADD\n",
      "  1  ┣━┳ ADD\n",
      "  2  ┃ ┣━┳ RESHAPE\n",
      "  3  ┃ ┃ ┗━┳ SUM\n",
      "  4  ┃ ┃   ┗━┳ MUL\n",
      "  5  ┃ ┃     ┣━┳ EXPAND\n",
      "  6  ┃ ┃     ┃ ┗━┳ RESHAPE\n",
      "  7  ┃ ┃     ┃   ┗━┳ RESHAPE\n",
      "  8  ┃ ┃     ┃     ┗━━ EMPTY\n",
      "  9  ┃ ┃     ┗━┳ EXPAND\n",
      " 10  ┃ ┃       ┗━┳ RESHAPE\n",
      " 11  ┃ ┃         ┗━┳ PERMUTE\n",
      " 12  ┃ ┃           ┗━┳ RESHAPE\n",
      " 13  ┃ ┃             ┗━┳ PERMUTE\n",
      " 14  ┃ ┃               ┗━━ EMPTY\n",
      " 15  ┃ ┗━┳ EXPAND\n",
      " 16  ┃   ┗━┳ RESHAPE\n",
      " 17  ┃     ┗━━ EMPTY\n",
      " 18  ┗━━ EMPTY\n"
     ]
    }
   ],
   "source": [
    "print_ast(z.data)"
   ]
  },
  {
   "cell_type": "code",
   "execution_count": 19,
   "id": "ef9bea12-c5d2-4f52-952b-34f44e144d77",
   "metadata": {
    "tags": []
   },
   "outputs": [
    {
     "data": {
      "text/plain": [
       "<Tensor <THUNK <shrimpgrad.runtime.clang.ClangDevice object at 0x1039e8090> (2, 2) float32 BinaryOps.ADD> on <shrimpgrad.runtime.clang.ClangDevice object at 0x1039e8090> with grad <THUNK <shrimpgrad.runtime.clang.ClangDevice object at 0x1039e8090> (2, 2) float32 LoadOps.EMPTY>>"
      ]
     },
     "execution_count": 19,
     "metadata": {},
     "output_type": "execute_result"
    }
   ],
   "source": [
    "z.backward()"
   ]
  },
  {
   "cell_type": "code",
   "execution_count": 20,
   "id": "596d605a-3365-44aa-a976-a0bc4c6734c9",
   "metadata": {
    "tags": []
   },
   "outputs": [
    {
     "name": "stdout",
     "output_type": "stream",
     "text": [
      "  0 ━┳ RESHAPE\n",
      "  1  ┗━┳ RESHAPE\n",
      "  2    ┗━┳ SUM\n",
      "  3      ┗━┳ MUL\n",
      "  4        ┣━┳ EXPAND\n",
      "  5        ┃ ┗━┳ RESHAPE\n",
      "  6        ┃   ┗━┳ RESHAPE\n",
      "  7        ┃     ┗━━ EMPTY\n",
      "  8        ┗━┳ EXPAND\n",
      "  9          ┗━┳ RESHAPE\n",
      " 10            ┗━━ EMPTY\n"
     ]
    }
   ],
   "source": [
    "print_ast(x.grad.data)"
   ]
  },
  {
   "cell_type": "code",
   "execution_count": null,
   "id": "a4173acf-623a-43ba-b679-959254a42975",
   "metadata": {},
   "outputs": [],
   "source": []
  }
 ],
 "metadata": {
  "kernelspec": {
   "display_name": "Python 3 (ipykernel)",
   "language": "python",
   "name": "python3"
  },
  "language_info": {
   "codemirror_mode": {
    "name": "ipython",
    "version": 3
   },
   "file_extension": ".py",
   "mimetype": "text/x-python",
   "name": "python",
   "nbconvert_exporter": "python",
   "pygments_lexer": "ipython3",
   "version": "3.11.5"
  }
 },
 "nbformat": 4,
 "nbformat_minor": 5
}
