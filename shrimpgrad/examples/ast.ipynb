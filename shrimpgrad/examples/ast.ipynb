{
 "cells": [
  {
   "cell_type": "code",
   "execution_count": 1,
   "id": "2cab0e27-db5e-4e0d-8f17-06ee011afa9e",
   "metadata": {
    "tags": []
   },
   "outputs": [],
   "source": [
    "from shrimpgrad import Tensor, nn, dtypes\n",
    "from shrimpgrad.engine.lower import lower, print_ast\n",
    "from shrimpgrad.nn import Linear\n",
    "import ctypes"
   ]
  },
  {
   "cell_type": "code",
   "execution_count": 2,
   "id": "66bfe463-db2b-4340-954c-cfd481c70c08",
   "metadata": {
    "tags": []
   },
   "outputs": [
    {
     "data": {
      "text/plain": [
       "MLIR(op=<BufferOps.STORE: 3>, inputs=(MLIR(op=<ReduceOps.SUM: 1>, inputs=[MLIR(op=<BinaryOps.MUL: 3>, inputs=[MLIR(op=<LoadOps.EMPTY: 1>, inputs=(), arg=MLIRBuffer(index=0, view=<View shape=(2, 2, 2) strides=[2, 0, 1] contig=False>, dtype=shrimp.float32)), MLIR(op=<LoadOps.EMPTY: 1>, inputs=(), arg=MLIRBuffer(index=1, view=<View shape=(2, 2, 2) strides=[0, 2, 1] contig=False>, dtype=shrimp.float32))], arg=None)], arg=(2,)),), arg=MLIRBuffer(index=2, view=<View shape=(2, 2) strides=(2, 1) contig=True>, dtype=shrimp.float32))"
      ]
     },
     "execution_count": 2,
     "metadata": {},
     "output_type": "execute_result"
    }
   ],
   "source": [
    "x = Tensor.zeros((2,2))\n",
    "y = Tensor.ones((2,2))\n",
    "z = x.dot(y)\n",
    "mlir = lower(z.thunk)\n",
    "mlir"
   ]
  },
  {
   "cell_type": "code",
   "execution_count": 3,
   "id": "9e33fca7-8b7f-4d7b-a8bc-6a4321f1b849",
   "metadata": {},
   "outputs": [
    {
     "name": "stdout",
     "output_type": "stream",
     "text": [
      "  0 ━┳ STORE\n",
      "  1  ┗━┳ SUM\n",
      "  2    ┗━┳ MUL\n",
      "  3      ┣━━ EMPTY\n",
      "  4      ┗━━ EMPTY\n"
     ]
    }
   ],
   "source": [
    "print_ast(mlir)"
   ]
  }
 ],
 "metadata": {
  "kernelspec": {
   "display_name": "Python 3 (ipykernel)",
   "language": "python",
   "name": "python3"
  },
  "language_info": {
   "codemirror_mode": {
    "name": "ipython",
    "version": 3
   },
   "file_extension": ".py",
   "mimetype": "text/x-python",
   "name": "python",
   "nbconvert_exporter": "python",
   "pygments_lexer": "ipython3",
   "version": "3.11.5"
  }
 },
 "nbformat": 4,
 "nbformat_minor": 5
}
