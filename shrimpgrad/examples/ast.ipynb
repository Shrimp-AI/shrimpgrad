{
 "cells": [
  {
   "cell_type": "code",
   "execution_count": 1,
   "id": "2cab0e27-db5e-4e0d-8f17-06ee011afa9e",
   "metadata": {
    "tags": []
   },
   "outputs": [],
   "source": [
    "from shrimpgrad import Tensor, nn, dtypes\n",
    "from shrimpgrad.future import Thunk, print_ast\n",
    "from shrimpgrad.engine.linearizer import linearize\n",
    "from shrimpgrad.nn import Linear\n",
    "import ctypes"
   ]
  },
  {
   "cell_type": "code",
   "execution_count": 2,
   "id": "66bfe463-db2b-4340-954c-cfd481c70c08",
   "metadata": {
    "tags": []
   },
   "outputs": [],
   "source": [
    "x = Tensor.zeros((2,2))\n",
    "y = Tensor.ones((2,2))\n",
    "z = x.dot(y)"
   ]
  },
  {
   "cell_type": "code",
   "execution_count": 3,
   "id": "230252fe-dd04-404d-af4a-1bebdf857f32",
   "metadata": {
    "tags": []
   },
   "outputs": [
    {
     "data": {
      "text/plain": [
       "<Tensor <THUNK <shrimpgrad.runtime.clang.ClangDevice object at 0x1081f6490> (2, 2) float32 None> on <shrimpgrad.runtime.clang.ClangDevice object at 0x1081f6490> with grad <THUNK <shrimpgrad.runtime.clang.ClangDevice object at 0x1081f6490> (2, 2) float32 LoadOps.EMPTY>>"
      ]
     },
     "execution_count": 3,
     "metadata": {},
     "output_type": "execute_result"
    }
   ],
   "source": [
    "z.backward()"
   ]
  },
  {
   "cell_type": "code",
   "execution_count": 4,
   "id": "a4173acf-623a-43ba-b679-959254a42975",
   "metadata": {},
   "outputs": [
    {
     "name": "stdout",
     "output_type": "stream",
     "text": [
      "  0 ━┳ VIRTUALOPS\n",
      "  1  ┗━┳ SUM\n",
      "  2    ┗━┳ MUL\n",
      "  3      ┣━┳ VIRTUALOPS\n",
      "  4      ┃ ┗━━ EMPTY\n",
      "  5      ┗━┳ VIRTUALOPS\n",
      "  6        ┗━━ EMPTY\n"
     ]
    }
   ],
   "source": [
    "print_ast(z.thunk)"
   ]
  },
  {
   "cell_type": "code",
   "execution_count": 5,
   "id": "1a643b87-7831-4632-a1df-4c4157435724",
   "metadata": {
    "tags": []
   },
   "outputs": [
    {
     "data": {
      "text/plain": [
       "[<THUNK <shrimpgrad.runtime.clang.ClangDevice object at 0x1081f6490> (2, 2) float32 LoadOps.EMPTY>,\n",
       " <THUNK <shrimpgrad.runtime.clang.ClangDevice object at 0x1081f6490> (2, 2, 2) float32 None>,\n",
       " <THUNK <shrimpgrad.runtime.clang.ClangDevice object at 0x1081f6490> (2, 2) float32 LoadOps.EMPTY>,\n",
       " <THUNK <shrimpgrad.runtime.clang.ClangDevice object at 0x1081f6490> (2, 2, 2) float32 None>,\n",
       " <THUNK <shrimpgrad.runtime.clang.ClangDevice object at 0x1081f6490> (2, 2, 2) float32 BinaryOps.MUL>,\n",
       " <THUNK <shrimpgrad.runtime.clang.ClangDevice object at 0x1081f6490> (2, 2, 1) float32 ReduceOps.SUM>,\n",
       " <THUNK <shrimpgrad.runtime.clang.ClangDevice object at 0x1081f6490> (2, 2) float32 None>]"
      ]
     },
     "execution_count": 5,
     "metadata": {},
     "output_type": "execute_result"
    }
   ],
   "source": [
    "linearize(z.thunk)"
   ]
  }
 ],
 "metadata": {
  "kernelspec": {
   "display_name": "Python 3 (ipykernel)",
   "language": "python",
   "name": "python3"
  },
  "language_info": {
   "codemirror_mode": {
    "name": "ipython",
    "version": 3
   },
   "file_extension": ".py",
   "mimetype": "text/x-python",
   "name": "python",
   "nbconvert_exporter": "python",
   "pygments_lexer": "ipython3",
   "version": "3.11.5"
  }
 },
 "nbformat": 4,
 "nbformat_minor": 5
}
