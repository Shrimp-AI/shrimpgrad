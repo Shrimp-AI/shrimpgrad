{
 "cells": [
  {
   "cell_type": "code",
   "execution_count": 17,
   "id": "3fd07ae8-12dd-4f9b-ba58-352e01e09499",
   "metadata": {
    "tags": []
   },
   "outputs": [
    {
     "name": "stdout",
     "output_type": "stream",
     "text": [
      "The autoreload extension is already loaded. To reload it, use:\n",
      "  %reload_ext autoreload\n"
     ]
    }
   ],
   "source": [
    "%load_ext autoreload\n",
    "%autoreload 2\n",
    "from shrimpgrad.runtime.clang import *"
   ]
  },
  {
   "cell_type": "code",
   "execution_count": 57,
   "id": "8523930a-f0fd-4a91-9615-6735131b2046",
   "metadata": {
    "tags": []
   },
   "outputs": [],
   "source": [
    "prg = ClangProgram()"
   ]
  },
  {
   "cell_type": "code",
   "execution_count": 58,
   "id": "fbea2db4-8cf0-44e1-9c5a-c9fc032809fa",
   "metadata": {
    "tags": []
   },
   "outputs": [
    {
     "data": {
      "text/plain": [
       "'#include<stdio.h>\\n int add(int x, int y) { return x + y; } int main() { int r = add(1,2); printf(\"%d\\\\n\", r); return 0; }'"
      ]
     },
     "execution_count": 58,
     "metadata": {},
     "output_type": "execute_result"
    }
   ],
   "source": [
    "prg.tostring()"
   ]
  },
  {
   "cell_type": "code",
   "execution_count": 59,
   "id": "fa4d1a07-c9dd-480e-a460-1423cca107fb",
   "metadata": {
    "tags": []
   },
   "outputs": [],
   "source": [
    "elf = ClangCompiler.compile(prg, 'out.c')"
   ]
  },
  {
   "cell_type": "code",
   "execution_count": 60,
   "id": "92be8fc9-5d2b-46ea-9f30-1ed53cfafa9a",
   "metadata": {
    "tags": []
   },
   "outputs": [
    {
     "name": "stdout",
     "output_type": "stream",
     "text": [
      "3\n"
     ]
    }
   ],
   "source": [
    "ClangRuntime.run(elf)"
   ]
  },
  {
   "cell_type": "code",
   "execution_count": null,
   "id": "8949c4aa-7f61-4cb7-b9e1-0d058dd9ed86",
   "metadata": {},
   "outputs": [],
   "source": []
  }
 ],
 "metadata": {
  "kernelspec": {
   "display_name": "Python 3 (ipykernel)",
   "language": "python",
   "name": "python3"
  },
  "language_info": {
   "codemirror_mode": {
    "name": "ipython",
    "version": 3
   },
   "file_extension": ".py",
   "mimetype": "text/x-python",
   "name": "python",
   "nbconvert_exporter": "python",
   "pygments_lexer": "ipython3",
   "version": "3.11.5"
  }
 },
 "nbformat": 4,
 "nbformat_minor": 5
}
