{
 "cells": [
  {
   "cell_type": "code",
   "execution_count": 59,
   "id": "3fd07ae8-12dd-4f9b-ba58-352e01e09499",
   "metadata": {
    "tags": []
   },
   "outputs": [
    {
     "name": "stdout",
     "output_type": "stream",
     "text": [
      "The autoreload extension is already loaded. To reload it, use:\n",
      "  %reload_ext autoreload\n"
     ]
    }
   ],
   "source": [
    "%load_ext autoreload\n",
    "%autoreload 2\n",
    "\n",
    "from shrimpgrad.runtime.clang import *\n",
    "import ctypes"
   ]
  },
  {
   "cell_type": "code",
   "execution_count": 60,
   "id": "8523930a-f0fd-4a91-9615-6735131b2046",
   "metadata": {
    "tags": []
   },
   "outputs": [],
   "source": [
    "prg = ClangProgram()"
   ]
  },
  {
   "cell_type": "code",
   "execution_count": 61,
   "id": "fbea2db4-8cf0-44e1-9c5a-c9fc032809fa",
   "metadata": {
    "tags": []
   },
   "outputs": [
    {
     "data": {
      "text/plain": [
       "'#include<stdio.h>\\n void add(float *x, float *y, float *out) { *out = *x + *y; }'"
      ]
     },
     "execution_count": 61,
     "metadata": {},
     "output_type": "execute_result"
    }
   ],
   "source": [
    "prg.tostring()"
   ]
  },
  {
   "cell_type": "code",
   "execution_count": 62,
   "id": "fa4d1a07-c9dd-480e-a460-1423cca107fb",
   "metadata": {
    "tags": []
   },
   "outputs": [],
   "source": [
    "elf = ClangCompiler.compile(prg)"
   ]
  },
  {
   "cell_type": "code",
   "execution_count": 63,
   "id": "92be8fc9-5d2b-46ea-9f30-1ed53cfafa9a",
   "metadata": {
    "tags": []
   },
   "outputs": [
    {
     "data": {
      "text/plain": [
       "<CDLL './cshrimp.so', handle 82f30960 at 0x104641390>"
      ]
     },
     "execution_count": 63,
     "metadata": {},
     "output_type": "execute_result"
    }
   ],
   "source": [
    "rt = ClangRuntime(elf)\n",
    "rt.lib"
   ]
  },
  {
   "cell_type": "code",
   "execution_count": 64,
   "id": "08ea87be-a8cc-470e-8702-8d7938a6a1c3",
   "metadata": {
    "tags": []
   },
   "outputs": [
    {
     "data": {
      "text/plain": [
       "<__main__.LP_c_float at 0x106474f50>"
      ]
     },
     "execution_count": 64,
     "metadata": {},
     "output_type": "execute_result"
    }
   ],
   "source": [
    "x = ctypes.c_float(2)\n",
    "y = ctypes.c_float(3)\n",
    "out = ctypes.c_float(0)\n",
    "out_p = ctypes.pointer(out)"
   ]
  },
  {
   "cell_type": "code",
   "execution_count": 65,
   "id": "2c85c143-7819-436a-8f94-633db69e1ac5",
   "metadata": {},
   "outputs": [],
   "source": [
    "res = rt.exec(BinaryOps.ADD, ctypes.pointer(x), ctypes.pointer(y), out_p)"
   ]
  },
  {
   "cell_type": "code",
   "execution_count": 66,
   "id": "eca87db4-7858-49fd-845a-3e7b153788ed",
   "metadata": {
    "tags": []
   },
   "outputs": [
    {
     "data": {
      "text/plain": [
       "c_float(5.0)"
      ]
     },
     "execution_count": 66,
     "metadata": {},
     "output_type": "execute_result"
    }
   ],
   "source": [
    "out_p.contents"
   ]
  },
  {
   "cell_type": "code",
   "execution_count": null,
   "id": "37a27101-de33-42ec-9f13-444e1763b413",
   "metadata": {},
   "outputs": [],
   "source": []
  }
 ],
 "metadata": {
  "kernelspec": {
   "display_name": "Python 3 (ipykernel)",
   "language": "python",
   "name": "python3"
  },
  "language_info": {
   "codemirror_mode": {
    "name": "ipython",
    "version": 3
   },
   "file_extension": ".py",
   "mimetype": "text/x-python",
   "name": "python",
   "nbconvert_exporter": "python",
   "pygments_lexer": "ipython3",
   "version": "3.11.5"
  }
 },
 "nbformat": 4,
 "nbformat_minor": 5
}
