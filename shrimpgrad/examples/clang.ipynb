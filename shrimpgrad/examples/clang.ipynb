{
 "cells": [
  {
   "cell_type": "code",
   "execution_count": 1,
   "id": "3fd07ae8-12dd-4f9b-ba58-352e01e09499",
   "metadata": {
    "tags": []
   },
   "outputs": [],
   "source": [
    "%load_ext autoreload\n",
    "%autoreload 2\n",
    "\n",
    "from shrimpgrad.runtime.clang import *\n",
    "from shrimpgrad import Tensor, dtypes\n",
    "import struct\n",
    "import ctypes"
   ]
  },
  {
   "cell_type": "code",
   "execution_count": 2,
   "id": "bab1362b-4207-4140-b74a-218af201f9e1",
   "metadata": {
    "tags": []
   },
   "outputs": [],
   "source": [
    "prg = ClangProgram()\n",
    "prg.autogen((100,100,100,100), [100*3,1000,100,1], dtypes.float32)\n",
    "\n",
    "lib = ClangCompiler.compile(prg)"
   ]
  },
  {
   "cell_type": "code",
   "execution_count": 3,
   "id": "5051748b-3b25-484a-a98a-676fdc310aac",
   "metadata": {
    "tags": []
   },
   "outputs": [
    {
     "name": "stdout",
     "output_type": "stream",
     "text": [
      "runtime __init__ <CDLL './74', handle 812a4750 at 0x10620bc10> None=0.0007925555109977722ms\n",
      "runtime exec BinaryOps.MUL 4000000=15.730082988739014ms\n",
      "runtime exec UnaryOps.LOG2 4000000=340.7744998112321ms\n",
      "3.321928024291992\n",
      "3.321928024291992\n",
      "3.321928024291992\n",
      "3.321928024291992\n",
      "3.321928024291992\n",
      "3.321928024291992\n",
      "3.321928024291992\n",
      "3.321928024291992\n",
      "3.321928024291992\n",
      "3.321928024291992\n"
     ]
    }
   ],
   "source": [
    "bufx = Buffer(MallocAllocator(), 1000000, dtypes.float32)\n",
    "bufy = Buffer(MallocAllocator(), 1000000, dtypes.float32)\n",
    "bufz = Buffer(MallocAllocator(), 1000000, dtypes.float32)\n",
    "\n",
    "\n",
    "bufx.copyin(struct.pack('f' * 1000000, *[10.0]*1000000))\n",
    "bufy.copyin(struct.pack('f' * 1000000, *[3.0]*1000000))\n",
    "bufz.copyin(struct.pack('f' * 1000000, *[0.0]*1000000))\n",
    "\n",
    "rt = ClangRuntime(lib)\n",
    "rt.exec(BinaryOps.MUL, bufx.pointer(ctypes.c_float), bufy.pointer(ctypes.c_float), bufz.pointer(ctypes.c_float))\n",
    "\n",
    "bufz.pointer(ctypes.c_float)[99999]\n",
    "    \n",
    "rt.exec(UnaryOps.LOG2, bufx.pointer(ctypes.c_float), bufz.pointer(ctypes.c_float))\n",
    "\n",
    "for val in bufz.pointer(ctypes.c_float)[0:10]:\n",
    "    print(val)\n"
   ]
  },
  {
   "cell_type": "code",
   "execution_count": null,
   "id": "e8b92f60-f4b8-4e3f-810c-9e74a72afa6c",
   "metadata": {},
   "outputs": [],
   "source": []
  },
  {
   "cell_type": "code",
   "execution_count": null,
   "id": "2725003a-f35b-4e8a-9f25-fb40d4befe2b",
   "metadata": {},
   "outputs": [],
   "source": []
  }
 ],
 "metadata": {
  "kernelspec": {
   "display_name": "Python 3 (ipykernel)",
   "language": "python",
   "name": "python3"
  },
  "language_info": {
   "codemirror_mode": {
    "name": "ipython",
    "version": 3
   },
   "file_extension": ".py",
   "mimetype": "text/x-python",
   "name": "python",
   "nbconvert_exporter": "python",
   "pygments_lexer": "ipython3",
   "version": "3.11.5"
  }
 },
 "nbformat": 4,
 "nbformat_minor": 5
}
