{
 "cells": [
  {
   "cell_type": "code",
   "execution_count": 1,
   "id": "3fd07ae8-12dd-4f9b-ba58-352e01e09499",
   "metadata": {
    "tags": []
   },
   "outputs": [],
   "source": [
    "%load_ext autoreload\n",
    "%autoreload 2\n",
    "\n",
    "from shrimpgrad.runtime.clang import *\n",
    "from shrimpgrad import Tensor, dtypes\n",
    "import struct\n",
    "import ctypes"
   ]
  },
  {
   "cell_type": "code",
   "execution_count": 2,
   "id": "bab1362b-4207-4140-b74a-218af201f9e1",
   "metadata": {
    "tags": []
   },
   "outputs": [],
   "source": [
    "prg = ClangProgram()\n",
    "prg.autogen((2,2,2), [4,2,1], dtypes.float32)\n",
    "lib = ClangCompiler.compile(prg)"
   ]
  },
  {
   "cell_type": "code",
   "execution_count": 5,
   "id": "5051748b-3b25-484a-a98a-676fdc310aac",
   "metadata": {
    "tags": []
   },
   "outputs": [
    {
     "name": "stdout",
     "output_type": "stream",
     "text": [
      "30.0\n",
      "30.0\n",
      "30.0\n",
      "30.0\n",
      "13.0\n",
      "13.0\n",
      "13.0\n",
      "13.0\n"
     ]
    }
   ],
   "source": [
    "bufx = Buffer(MallocAllocator(), 8, dtypes.float32)\n",
    "bufy = Buffer(MallocAllocator(), 8, dtypes.float32)\n",
    "bufz = Buffer(MallocAllocator(), 8, dtypes.float32)\n",
    "\n",
    "\n",
    "bufx.copyin(struct.pack('f' * 8, *[10.0]*8))\n",
    "bufy.copyin(struct.pack('f' * 8, *[3.0]*8))\n",
    "bufz.copyin(struct.pack('f' * 8, *[0.0]*8))\n",
    "\n",
    "rt = ClangRuntime(lib)\n",
    "rt.exec(BinaryOps.MUL, bufx.pointer(ctypes.c_float), bufy.pointer(ctypes.c_float), bufz.pointer(ctypes.c_float))\n",
    "\n",
    "for val in bufz.pointer(ctypes.c_float):\n",
    "    print(val)\n",
    "    \n",
    "rt.exec(BinaryOps.ADD, bufx.pointer(ctypes.c_float), bufy.pointer(ctypes.c_float), bufz.pointer(ctypes.c_float))\n",
    "\n",
    "for val in bufz.pointer(ctypes.c_float):\n",
    "    print(val)\n"
   ]
  }
 ],
 "metadata": {
  "kernelspec": {
   "display_name": "Python 3 (ipykernel)",
   "language": "python",
   "name": "python3"
  },
  "language_info": {
   "codemirror_mode": {
    "name": "ipython",
    "version": 3
   },
   "file_extension": ".py",
   "mimetype": "text/x-python",
   "name": "python",
   "nbconvert_exporter": "python",
   "pygments_lexer": "ipython3",
   "version": "3.11.5"
  }
 },
 "nbformat": 4,
 "nbformat_minor": 5
}
