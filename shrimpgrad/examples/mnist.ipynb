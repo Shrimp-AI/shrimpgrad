{
 "cells": [
  {
   "cell_type": "code",
   "execution_count": 1,
   "id": "dc24607d-70d1-47e2-9514-b65c5a439f6f",
   "metadata": {
    "tags": []
   },
   "outputs": [],
   "source": [
    "from shrimpgrad.tensor import Tensor"
   ]
  },
  {
   "cell_type": "code",
   "execution_count": null,
   "id": "89ab9912-313d-4e86-b8da-411e44ecf4c1",
   "metadata": {},
   "outputs": [],
   "source": []
  }
 ],
 "metadata": {
  "kernelspec": {
   "display_name": "Python 3 (ipykernel)",
   "language": "python",
   "name": "python3"
  },
  "language_info": {
   "codemirror_mode": {
    "name": "ipython",
    "version": 3
   },
   "file_extension": ".py",
   "mimetype": "text/x-python",
   "name": "python",
   "nbconvert_exporter": "python",
   "pygments_lexer": "ipython3",
   "version": "3.11.5"
  }
 },
 "nbformat": 4,
 "nbformat_minor": 5
}
