{
 "cells": [
  {
   "cell_type": "markdown",
   "id": "4159792a-ccd8-4944-a490-28895f43dc14",
   "metadata": {},
   "source": [
    "# Understanding Reduction Computation"
   ]
  },
  {
   "cell_type": "markdown",
   "id": "d819197f-cca8-47c6-b647-0ba7cd99659a",
   "metadata": {},
   "source": [
    "## Placing the reduce axis at the end"
   ]
  },
  {
   "cell_type": "code",
   "execution_count": 3,
   "id": "17c15d8d-a89e-492b-bbcd-b61a9361e2be",
   "metadata": {
    "tags": []
   },
   "outputs": [
    {
     "name": "stdout",
     "output_type": "stream",
     "text": [
      "order = (2, 0, 1)\n"
     ]
    }
   ],
   "source": [
    "from shrimpgrad.util import prod\n",
    "import itertools\n",
    "import operator\n",
    "\n",
    "class Tensor:\n",
    "    def __init__(self, shape, data):\n",
    "        self.shape = shape\n",
    "        self.data = data\n",
    "        self.strides = tuple(itertools.accumulate(reversed(shape[1:]), operator.mul, initial=1))[::-1]\n",
    "    \n",
    "    def permute(self, order):\n",
    "        self.shape = tuple([self.shape[i] for i in order])\n",
    "        self.strides = tuple([self.strides[i] for i in order])\n",
    "\n",
    "\n",
    "t = Tensor((2,2,2), [1,2,3,4]*2)\n",
    "\n",
    "# axis=0\n",
    "shape = t.shape\n",
    "out_shape = (1,1,2)\n",
    "out = Tensor(out_shape, [0]*2)\n",
    "\n",
    "order = tuple([i for i,s in enumerate(shape) if shape[i] == out_shape[i]] + [i for i,s in enumerate(shape) if out_shape[i] != shape[i]])\n",
    "print(f\"{order = }\")\n",
    "\n",
    "t.permute(order)\n",
    "out.permute(order)"
   ]
  },
  {
   "cell_type": "code",
   "execution_count": null,
   "id": "6c549c86-c5bc-469b-8cbb-db7e70748d0f",
   "metadata": {
    "tags": []
   },
   "outputs": [],
   "source": [
    "t.shape, t.strides, out.shape, out.strides"
   ]
  },
  {
   "cell_type": "markdown",
   "id": "490b0a3c-4988-4709-aba6-f1cf84da4b0a",
   "metadata": {},
   "source": [
    "What does it mean for the computation when the reduce axis is always in the last dimension?"
   ]
  },
  {
   "cell_type": "code",
   "execution_count": null,
   "id": "b620287f-2c41-4025-8eee-7bee5a4e9ee6",
   "metadata": {
    "tags": []
   },
   "outputs": [],
   "source": [
    "# Naive"
   ]
  },
  {
   "cell_type": "code",
   "execution_count": null,
   "id": "18032502-8519-4a45-9a6c-e07581f46998",
   "metadata": {
    "tags": []
   },
   "outputs": [],
   "source": [
    "off=0\n",
    "acc = 0\n",
    "for m in range(t.shape[0]):\n",
    "    moff = m * t.strides[0]\n",
    "    for r in range(t.shape[1]):\n",
    "        roff = r * t.strides[1]\n",
    "        for c in range(t.shape[2]):\n",
    "            coff = moff + roff + c*t.strides[2]\n",
    "            # print(t.datax[coff])\n",
    "            out.data[off] += t.data[coff]\n",
    "            print(off, t.data[coff])\n",
    "    off+=1\n",
    "            \n",
    "   \n",
    "print(out.data)\n",
    "# 0,0 1,1\n",
    "# 2,2 3,3"
   ]
  },
  {
   "cell_type": "code",
   "execution_count": null,
   "id": "2528ac87-dc94-432b-88f3-fb5d02da08c9",
   "metadata": {
    "tags": []
   },
   "outputs": [],
   "source": [
    "import numpy as np\n",
    "x = np.array([1,2,3,4]*2).reshape((2,2,2))\n",
    "print(x)"
   ]
  },
  {
   "cell_type": "code",
   "execution_count": null,
   "id": "4a949121-b51d-4f7e-9fcf-77e9a1d2ee35",
   "metadata": {},
   "outputs": [],
   "source": [
    "x.transpose(order).sum((0,1), keepdims=True)"
   ]
  },
  {
   "cell_type": "code",
   "execution_count": null,
   "id": "8a7eb429-201f-4236-b9d6-5a9ce5be0bda",
   "metadata": {},
   "outputs": [],
   "source": []
  }
 ],
 "metadata": {
  "kernelspec": {
   "display_name": "Python 3 (ipykernel)",
   "language": "python",
   "name": "python3"
  },
  "language_info": {
   "codemirror_mode": {
    "name": "ipython",
    "version": 3
   },
   "file_extension": ".py",
   "mimetype": "text/x-python",
   "name": "python",
   "nbconvert_exporter": "python",
   "pygments_lexer": "ipython3",
   "version": "3.11.5"
  }
 },
 "nbformat": 4,
 "nbformat_minor": 5
}
