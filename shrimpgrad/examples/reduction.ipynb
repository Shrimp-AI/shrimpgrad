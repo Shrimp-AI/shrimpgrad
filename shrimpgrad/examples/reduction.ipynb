{
 "cells": [
  {
   "cell_type": "markdown",
   "id": "4159792a-ccd8-4944-a490-28895f43dc14",
   "metadata": {
    "tags": []
   },
   "source": [
    "# Understanding Reduction Computation"
   ]
  },
  {
   "cell_type": "markdown",
   "id": "d819197f-cca8-47c6-b647-0ba7cd99659a",
   "metadata": {},
   "source": [
    "## Placing the reduce axis at the end"
   ]
  },
  {
   "cell_type": "code",
   "execution_count": 489,
   "id": "17c15d8d-a89e-492b-bbcd-b61a9361e2be",
   "metadata": {
    "tags": []
   },
   "outputs": [
    {
     "name": "stdout",
     "output_type": "stream",
     "text": [
      "(1, 2, 0)\n"
     ]
    }
   ],
   "source": [
    "from shrimpgrad.util import prod\n",
    "\n",
    "class Tensor:\n",
    "    def __init__(self, shape, data):\n",
    "        self.shape = shape\n",
    "        self.data = data\n",
    "        self.strides = tuple(itertools.accumulate(reversed(shape[1:]), operator.mul, initial=1))[::-1]\n",
    "    \n",
    "    def permute(self, order):\n",
    "        self.shape = tuple([self.shape[i] for i in order])\n",
    "        self.strides = tuple([self.strides[i] for i in order])\n",
    "\n",
    "t = Tensor((2,2,2), [1,2,3,4]*2)\n",
    "t.shape, t.strides\n",
    "\n",
    "axis=(0,)\n",
    "shape = t.shape\n",
    "out_shape = (1,2,2)\n",
    "out = Tensor(out_shape, [0]*prod(out_shape))\n",
    "\n",
    "order = tuple([i for i,s in enumerate(shape) if shape[i] == out_shape[i]] + [i for i,s in enumerate(shape) if out_shape[i] != shape[i]])\n",
    "print(order)\n",
    "\n",
    "t.permute(order)\n",
    "out.permute(order)\n"
   ]
  },
  {
   "cell_type": "code",
   "execution_count": 491,
   "id": "6c549c86-c5bc-469b-8cbb-db7e70748d0f",
   "metadata": {
    "tags": []
   },
   "outputs": [
    {
     "data": {
      "text/plain": [
       "((2, 2, 2), (2, 1, 4), (2, 2, 1), (2, 1, 4))"
      ]
     },
     "execution_count": 491,
     "metadata": {},
     "output_type": "execute_result"
    }
   ],
   "source": [
    "t.shape, t.strides, out.shape, out.strides"
   ]
  },
  {
   "cell_type": "markdown",
   "id": "490b0a3c-4988-4709-aba6-f1cf84da4b0a",
   "metadata": {},
   "source": [
    "What does it mean for the computation when the reduce axis is always in the last dimension?"
   ]
  },
  {
   "cell_type": "code",
   "execution_count": 482,
   "id": "18032502-8519-4a45-9a6c-e07581f46998",
   "metadata": {
    "tags": []
   },
   "outputs": [
    {
     "name": "stdout",
     "output_type": "stream",
     "text": [
      "0 1\n",
      "0 1\n",
      "1 2\n",
      "1 2\n",
      "2 3\n",
      "2 3\n",
      "3 4\n",
      "3 4\n",
      "[2, 4, 6, 8]\n"
     ]
    }
   ],
   "source": [
    "off=0\n",
    "acc = 0\n",
    "for m in range(t.shape[0]):\n",
    "    moff = m * t.strides[0]\n",
    "    for r in range(t.shape[1]):\n",
    "        roff = r * t.strides[1]\n",
    "        for c in range(t.shape[2]):\n",
    "            coff = moff + roff + c*t.strides[2]\n",
    "            # print(t.datax[coff])\n",
    "            out.data[off] += t.data[coff]\n",
    "            print(off, t.data[coff])\n",
    "        off+=1\n",
    "            \n",
    "   \n",
    "print(out.data)\n"
   ]
  },
  {
   "cell_type": "code",
   "execution_count": 400,
   "id": "2528ac87-dc94-432b-88f3-fb5d02da08c9",
   "metadata": {
    "tags": []
   },
   "outputs": [
    {
     "name": "stdout",
     "output_type": "stream",
     "text": [
      "[[[1 2]\n",
      "  [3 4]]\n",
      "\n",
      " [[1 2]\n",
      "  [3 4]]]\n"
     ]
    }
   ],
   "source": [
    "import numpy as np\n",
    "x = np.array([1,2,3,4]*2).reshape((2,2,2))\n",
    "print(x)"
   ]
  },
  {
   "cell_type": "code",
   "execution_count": 428,
   "id": "4a949121-b51d-4f7e-9fcf-77e9a1d2ee35",
   "metadata": {},
   "outputs": [
    {
     "data": {
      "text/plain": [
       "(1, 1, 2)"
      ]
     },
     "execution_count": 428,
     "metadata": {},
     "output_type": "execute_result"
    }
   ],
   "source": [
    "x.sum((0,1), keepdims=True).shape"
   ]
  },
  {
   "cell_type": "code",
   "execution_count": 448,
   "id": "8a7eb429-201f-4236-b9d6-5a9ce5be0bda",
   "metadata": {
    "tags": []
   },
   "outputs": [
    {
     "data": {
      "text/plain": [
       "array([[[ 8, 12]]])"
      ]
     },
     "execution_count": 448,
     "metadata": {},
     "output_type": "execute_result"
    }
   ],
   "source": [
    "x.transpose(order).sum((-1,-2), keepdims=True).transpose((1,2,0))"
   ]
  },
  {
   "cell_type": "markdown",
   "id": "8779282a-60fd-4350-88da-b0883a321f93",
   "metadata": {},
   "source": [
    "## Merging dimensions"
   ]
  },
  {
   "cell_type": "code",
   "execution_count": 607,
   "id": "d7de68df-f051-4fd0-b8ab-2a66a1ad853a",
   "metadata": {
    "tags": []
   },
   "outputs": [
    {
     "name": "stdout",
     "output_type": "stream",
     "text": [
      "shape = (2, 2, 2) \n",
      "axis = (0,)\n",
      "order = (1, 2, 0)\n",
      "t.strides = (2, 1, 4) t.shape = (2, 2, 2) out_shape = (1, 2, 2)\n",
      "coff = 0\n",
      "coff = 4\n",
      "coff = 1\n",
      "coff = 5\n",
      "coff = 2\n",
      "coff = 6\n",
      "coff = 3\n",
      "coff = 7\n",
      "out.data = [2, 4, 6, 8]\n",
      "moff = 0 moff + t.strides[2] = 4\n",
      "moff = 1 moff + t.strides[2] = 5\n",
      "moff = 2 moff + t.strides[2] = 6\n",
      "moff = 3 moff + t.strides[2] = 7\n",
      "Merge and unroll\n",
      "out.data = [2, 4, 6, 8]\n"
     ]
    }
   ],
   "source": [
    "t = Tensor((2,2,2), [1,2,3,4]*2)\n",
    "t.shape, t.strides\n",
    "\n",
    "axis=(0,)\n",
    "shape = t.shape\n",
    "out_shape = (1,2,2)\n",
    "out = Tensor(out_shape, [0]*prod(out_shape))\n",
    "print(f\"{shape = } \")\n",
    "print(f\"{axis = }\")\n",
    "order = tuple([i for i,s in enumerate(shape) if shape[i] == out_shape[i]] + [i for i,s in enumerate(shape) if out_shape[i] != shape[i]])\n",
    "print(f\"{order = }\")\n",
    "\n",
    "t.permute(order)\n",
    "out.permute(order)\n",
    "\n",
    "print(f\"{t.strides = } {t.shape = } {out_shape = }\")\n",
    "\n",
    "off=0\n",
    "for m in range(t.shape[0]*t.shape[1]): # Merge two dims (since shape[1]*stride[1] == stride[0])\n",
    "    moff = m * t.strides[1]\n",
    "    for c in range(t.shape[2]):\n",
    "        coff = moff + c*t.strides[2]\n",
    "        print(f\"{coff = }\")\n",
    "        out.data[off] += t.data[coff]\n",
    "    off+=1\n",
    "print(f\"{out.data = }\")\n",
    "\n",
    "out = Tensor(out_shape, [0]*prod(out_shape))\n",
    "off=0\n",
    "for m in range(t.shape[0]*t.shape[1]): # Merge two and unroll\n",
    "    moff = m * t.strides[1]\n",
    "    print(f\"{moff = } {moff + t.strides[2] = }\") \n",
    "    out.data[off] += t.data[moff] + t.data[moff + t.strides[2]] \n",
    "    off+=1\n",
    "    \n",
    "print(\"Merge and unroll\")\n",
    "print(f\"{out.data = }\")\n"
   ]
  },
  {
   "cell_type": "markdown",
   "id": "9e4d6ab1-7d56-478e-b4a4-b345775d48f3",
   "metadata": {},
   "source": [
    "Below you can't merge 0 and 1 dims because the above condition doesn't hold, but you can merge dim 1 and dim 2."
   ]
  },
  {
   "cell_type": "code",
   "execution_count": 609,
   "id": "d4c875e1-94af-4d61-81e6-4377a03b9942",
   "metadata": {
    "tags": []
   },
   "outputs": [
    {
     "name": "stdout",
     "output_type": "stream",
     "text": [
      "axis = (0, 1)\n",
      "order = (2, 0, 1)\n",
      "t.strides = (1, 4, 2) t.shape = (2, 2, 2) out_shape = (1, 1, 2)\n",
      "coff = 0\n",
      "coff = 2\n",
      "coff = 4\n",
      "coff = 6\n",
      "coff = 1\n",
      "coff = 3\n",
      "coff = 5\n",
      "coff = 7\n",
      "out.data = [8, 12]\n"
     ]
    }
   ],
   "source": [
    "t = Tensor((2,2,2), [1,2,3,4]*2)\n",
    "t.shape, t.strides\n",
    "\n",
    "axis=(0,1) # Two axis sum\n",
    "shape = t.shape\n",
    "out_shape = (1,1,2) # the out shape with multidim reduce\n",
    "out = Tensor(out_shape, [0]*prod(out_shape))\n",
    "print(f\"{axis = }\")\n",
    "order = tuple([i for i,s in enumerate(shape) if shape[i] == out_shape[i]] + [i for i,s in enumerate(shape) if out_shape[i] != shape[i]])\n",
    "print(f\"{order = }\")\n",
    "\n",
    "t.permute(order)\n",
    "out.permute(order)\n",
    "\n",
    "print(f\"{t.strides = } {t.shape = } {out_shape = }\")\n",
    "\n",
    "off=0\n",
    "for m in range(t.shape[0]): # Can't merge 0,1 because shape[1]*strides[1] != strides[0]\n",
    "    moff = m * t.strides[0]\n",
    "    for c in range(t.shape[2]*t.shape[1]): # Can merge here because strides[1] == shapes[2] * strides[2]\n",
    "        coff = moff + c*t.strides[2]       # 4 == 2*2\n",
    "        print(f\"{coff = }\")\n",
    "        out.data[off] += t.data[coff]\n",
    "    off+=1\n",
    "print(f\"{out.data = }\")\n",
    "\n",
    "\n",
    "\n"
   ]
  },
  {
   "cell_type": "code",
   "execution_count": null,
   "id": "2dff400d-c543-42b8-a609-e265b8ccd12d",
   "metadata": {},
   "outputs": [],
   "source": []
  }
 ],
 "metadata": {
  "kernelspec": {
   "display_name": "Python 3 (ipykernel)",
   "language": "python",
   "name": "python3"
  },
  "language_info": {
   "codemirror_mode": {
    "name": "ipython",
    "version": 3
   },
   "file_extension": ".py",
   "mimetype": "text/x-python",
   "name": "python",
   "nbconvert_exporter": "python",
   "pygments_lexer": "ipython3",
   "version": "3.11.5"
  }
 },
 "nbformat": 4,
 "nbformat_minor": 5
}
