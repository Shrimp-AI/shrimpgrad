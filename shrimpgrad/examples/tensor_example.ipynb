{
 "cells": [
  {
   "cell_type": "code",
   "execution_count": null,
   "id": "3a9ebb6b-130a-4b3d-b6eb-2bb3efbcf852",
   "metadata": {
    "tags": []
   },
   "outputs": [],
   "source": [
    "%load_ext autoreload\n",
    "%autoreload 2\n",
    "import numpy as np\n",
    "import matplotlib.pyplot as plt\n",
    "from typing import Callable\n",
    "from shrimpgrad import Tensor, nn, dtypes\n",
    "import random\n",
    "\n",
    "np.random.seed(1337)\n",
    "random.seed(1337)\n",
    "# make up a dataset\n",
    "\n",
    "from sklearn.datasets import make_moons\n",
    "X, y = make_moons(n_samples=100, noise=0.1)\n",
    "X = X.astype(float)\n",
    "y = y.astype(float)\n",
    "# visualize in 2D\n",
    "plt.figure(figsize=(5,5))\n",
    "plt.scatter(X[:,0], X[:,1], c=y, s=20, cmap='jet')\n"
   ]
  },
  {
   "cell_type": "code",
   "execution_count": null,
   "id": "2fb7fa17-1edd-4ee6-946f-7aec9cd9a777",
   "metadata": {
    "tags": []
   },
   "outputs": [],
   "source": [
    "X_train = Tensor.fromlist(X.shape, X.flatten().tolist())\n",
    "y_train = Tensor.fromlist((100,1), y.flatten().tolist())\n",
    "class Model:\n",
    "    def __init__(self):\n",
    "        self.layers: List[Callable[[Tensor], Tensor]] = [\n",
    "         nn.Linear(2, 50), Tensor.relu,\n",
    "         nn.Linear(50, 1), Tensor.sigmoid, \n",
    "        ]\n",
    "    def __call__(self, x: Tensor):\n",
    "        return x.sequential(self.layers)\n"
   ]
  },
  {
   "cell_type": "code",
   "execution_count": null,
   "id": "94ca401f-0e30-4607-8593-9a1e926c3489",
   "metadata": {
    "tags": []
   },
   "outputs": [],
   "source": [
    "def get_parameters(model):\n",
    "    params = []\n",
    "    for layer in model.layers:\n",
    "        if getattr(layer, 'parameters', None):\n",
    "            params+=layer.parameters()\n",
    "    return params\n",
    "def optimize(model, x_train, target, epochs=1000, lr=0.01):\n",
    "    epsilon = 1e-10\n",
    "    for epoch in range(epochs):\n",
    "        params = get_parameters(model)\n",
    "        for p in params: p.grad = None\n",
    "        out = model(x_train)\n",
    "        loss = out.binary_cross_entropy(target)\n",
    "        numerator = ((target > 0) == (out > 0.5)).sum().cast(dtypes.float32)\n",
    "        accuracy = (numerator / out.size(0)) * 100.0\n",
    "        loss.backward()\n",
    "        print(f'epoch={epoch} loss={loss} acc={accuracy}')\n",
    "        lr = 3.0 - 0.9*epoch/epochs\n",
    "        for param in params:\n",
    "            param.data = (param - (param.grad*lr)).data\n",
    "    return model\n",
    "optimize(model:=Model(), X_train, y_train, epochs=80, lr=0.1)"
   ]
  },
  {
   "cell_type": "code",
   "execution_count": null,
   "id": "537ab3a5",
   "metadata": {
    "tags": []
   },
   "outputs": [],
   "source": [
    "# visualize decision boundary\n",
    "\n",
    "h = 0.25\n",
    "x_min, x_max = X[:, 0].min() - 1, X[:, 0].max() + 1\n",
    "y_min, y_max = X[:, 1].min() - 1, X[:, 1].max() + 1\n",
    "xx, yy = np.meshgrid(np.arange(x_min, x_max, h),\n",
    "                     np.arange(y_min, y_max, h))\n",
    "Xmesh = np.c_[xx.ravel(), yy.ravel()]\n",
    "input_ = Tensor.fromlist(Xmesh.shape, data=Xmesh.flatten().tolist())\n",
    "scores = model(input_)\n",
    "Z = np.array([s > 0.5 for s in scores.data])\n",
    "Z = Z.reshape(xx.shape)\n",
    "\n",
    "fig = plt.figure()\n",
    "plt.contourf(xx, yy, Z, cmap=plt.cm.Spectral, alpha=0.8)\n",
    "plt.scatter(X[:, 0], X[:, 1], c=y, s=40, cmap=plt.cm.Spectral)\n",
    "plt.xlim(xx.min(), xx.max())\n",
    "plt.ylim(yy.min(), yy.max())\n"
   ]
  }
 ],
 "metadata": {
  "kernelspec": {
   "display_name": "Python 3 (ipykernel)",
   "language": "python",
   "name": "python3"
  },
  "language_info": {
   "codemirror_mode": {
    "name": "ipython",
    "version": 3
   },
   "file_extension": ".py",
   "mimetype": "text/x-python",
   "name": "python",
   "nbconvert_exporter": "python",
   "pygments_lexer": "ipython3",
   "version": "3.11.5"
  }
 },
 "nbformat": 4,
 "nbformat_minor": 5
}
