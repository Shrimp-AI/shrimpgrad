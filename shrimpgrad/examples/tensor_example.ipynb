{
 "cells": [
  {
   "cell_type": "code",
   "execution_count": 154,
   "id": "3a9ebb6b-130a-4b3d-b6eb-2bb3efbcf852",
   "metadata": {
    "tags": []
   },
   "outputs": [
    {
     "name": "stdout",
     "output_type": "stream",
     "text": [
      "The autoreload extension is already loaded. To reload it, use:\n",
      "  %reload_ext autoreload\n"
     ]
    }
   ],
   "source": [
    "%load_ext autoreload\n",
    "%autoreload 2\n",
    "\n",
    "from shrimpgrad.tensor import Tensor\n",
    "import torch"
   ]
  },
  {
   "cell_type": "code",
   "execution_count": 162,
   "id": "d3b1356a-3ce4-4985-aae1-3d2880232e61",
   "metadata": {
    "tags": []
   },
   "outputs": [
    {
     "data": {
      "text/plain": [
       "(tensor([0.0, 2.0]),\n",
       " tensor([0.0, 2.0]),\n",
       " tensor([0.0, 4.0]),\n",
       " tensor([0.0, 2.0]),\n",
       " tensor([0.0, 2.0]),\n",
       " tensor([-0.0, -2.0]),\n",
       " tensor([1.0, 1.0]))"
      ]
     },
     "execution_count": 162,
     "metadata": {},
     "output_type": "execute_result"
    }
   ],
   "source": [
    "a = Tensor.arange(2)\n",
    "b = Tensor.arange(2)\n",
    "c = Tensor.arange(2)\n",
    "\n",
    "t = a+b\n",
    "d = t*c\n",
    "e = -d.relu()\n",
    "\n",
    "e.backward()\n",
    "a.grad, b.grad, c.grad, t.grad, d.grad, e,e.grad"
   ]
  },
  {
   "cell_type": "code",
   "execution_count": 173,
   "id": "108005cb-9304-44b4-a05f-ebc73bb6bd93",
   "metadata": {
    "tags": []
   },
   "outputs": [
    {
     "data": {
      "text/plain": [
       "tensor([1.0, 1.0])"
      ]
     },
     "execution_count": 173,
     "metadata": {},
     "output_type": "execute_result"
    }
   ],
   "source": [
    "x = -a\n",
    "x\n",
    "x.backward()\n",
    "x.grad"
   ]
  },
  {
   "cell_type": "code",
   "execution_count": 183,
   "id": "40acd58c-92d0-4606-ae86-bbdf51eee5ce",
   "metadata": {
    "tags": []
   },
   "outputs": [
    {
     "data": {
      "text/plain": [
       "tensor([0.0, 1.0])"
      ]
     },
     "execution_count": 183,
     "metadata": {},
     "output_type": "execute_result"
    }
   ],
   "source": [
    "x = a - a\n",
    "x.backward()\n",
    "x, x.grad, a.grad"
   ]
  },
  {
   "cell_type": "code",
   "execution_count": 192,
   "id": "78b8ef5f-3226-4019-8dcd-584e382e7c87",
   "metadata": {
    "tags": []
   },
   "outputs": [
    {
     "data": {
      "text/plain": [
       "(tensor([[[2, 2], [2, 2]], [[2, 2], [2, 2]]]), tensor([[3, 4]]))"
      ]
     },
     "execution_count": 192,
     "metadata": {},
     "output_type": "execute_result"
    }
   ],
   "source": [
    "a = Tensor((2,2,2), [2]*(2*2*2))\n",
    "b = Tensor((1,2), [3, 4])\n",
    "a,b"
   ]
  },
  {
   "cell_type": "code",
   "execution_count": 193,
   "id": "b146a9a3-274c-4d09-8657-016ef08456b0",
   "metadata": {
    "tags": []
   },
   "outputs": [],
   "source": [
    "c = a ** b"
   ]
  },
  {
   "cell_type": "code",
   "execution_count": 194,
   "id": "b98c0955-3778-4ca8-a2fc-33489edfa378",
   "metadata": {
    "tags": []
   },
   "outputs": [
    {
     "data": {
      "text/plain": [
       "tensor([[[8, 16], [8, 16]], [[8, 16], [8, 16]]])"
      ]
     },
     "execution_count": 194,
     "metadata": {},
     "output_type": "execute_result"
    }
   ],
   "source": [
    "c"
   ]
  },
  {
   "cell_type": "code",
   "execution_count": 195,
   "id": "bbbb35dc-0108-48bc-b1e8-c09bc8cd245a",
   "metadata": {
    "tags": []
   },
   "outputs": [],
   "source": [
    "c.backward()"
   ]
  },
  {
   "cell_type": "code",
   "execution_count": 197,
   "id": "79b0ed34-4828-4e43-b89b-2ceda6d4a76c",
   "metadata": {
    "tags": []
   },
   "outputs": [
    {
     "data": {
      "text/plain": [
       "(tensor([[[1.0, 1.0], [1.0, 1.0]],\n",
       "  [[1.0, 1.0], [1.0, 1.0]]]),\n",
       " tensor([[[12.0, 32.0], [12.0, 32.0]],\n",
       "  [[12.0, 32.0], [12.0, 32.0]]]),\n",
       " None)"
      ]
     },
     "execution_count": 197,
     "metadata": {},
     "output_type": "execute_result"
    }
   ],
   "source": [
    "c.grad, a.grad, b.grad"
   ]
  },
  {
   "cell_type": "code",
   "execution_count": null,
   "id": "0e3c91ed-02df-4a54-8a98-e97bbb4c0e07",
   "metadata": {},
   "outputs": [],
   "source": []
  }
 ],
 "metadata": {
  "kernelspec": {
   "display_name": "Python 3 (ipykernel)",
   "language": "python",
   "name": "python3"
  },
  "language_info": {
   "codemirror_mode": {
    "name": "ipython",
    "version": 3
   },
   "file_extension": ".py",
   "mimetype": "text/x-python",
   "name": "python",
   "nbconvert_exporter": "python",
   "pygments_lexer": "ipython3",
   "version": "3.11.5"
  }
 },
 "nbformat": 4,
 "nbformat_minor": 5
}
