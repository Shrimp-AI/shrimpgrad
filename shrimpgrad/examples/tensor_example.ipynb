{
 "cells": [
  {
   "cell_type": "code",
   "execution_count": 202,
   "id": "3a9ebb6b-130a-4b3d-b6eb-2bb3efbcf852",
   "metadata": {
    "tags": []
   },
   "outputs": [
    {
     "name": "stdout",
     "output_type": "stream",
     "text": [
      "The autoreload extension is already loaded. To reload it, use:\n",
      "  %reload_ext autoreload\n"
     ]
    }
   ],
   "source": [
    "%load_ext autoreload\n",
    "%autoreload 2\n",
    "\n",
    "from shrimpgrad.tensor import Tensor\n",
    "import torch"
   ]
  },
  {
   "cell_type": "code",
   "execution_count": 209,
   "id": "14f25188-fa86-40eb-94f2-da910fbbf101",
   "metadata": {
    "tags": []
   },
   "outputs": [],
   "source": [
    "x = Tensor.rand(2,2)"
   ]
  },
  {
   "cell_type": "code",
   "execution_count": 210,
   "id": "8c3047f3-13e6-4397-aa53-044e3df32db3",
   "metadata": {
    "tags": []
   },
   "outputs": [
    {
     "data": {
      "text/plain": [
       "tensor([[1.1483342096275484,\n",
       "  1.2021448757683826,\n",
       "  -0.5122828778128984],\n",
       " [0.06477125864115552,\n",
       "  0.2229293288125177,\n",
       "  -1.1808725813725525],\n",
       " [1.7327131114862218,\n",
       "  -0.6675351892976191,\n",
       "  1.392259489701388]])"
      ]
     },
     "execution_count": 210,
     "metadata": {},
     "output_type": "execute_result"
    }
   ],
   "source": [
    "x = Tensor.randn(3,3)\n",
    "x"
   ]
  },
  {
   "cell_type": "code",
   "execution_count": null,
   "id": "b46e8799-1345-4ad9-ae71-23b7ea817610",
   "metadata": {},
   "outputs": [],
   "source": []
  },
  {
   "cell_type": "code",
   "execution_count": 211,
   "id": "b2708549-3eb0-4189-9804-0b17caec1b2a",
   "metadata": {},
   "outputs": [],
   "source": [
    "import numpy as np"
   ]
  },
  {
   "cell_type": "code",
   "execution_count": 213,
   "id": "1ca2d6e2-a3c6-4c99-9672-829311869f7a",
   "metadata": {
    "tags": []
   },
   "outputs": [],
   "source": [
    "a = np.arange(3*4*5*6).reshape((3,4,5,6))\n",
    "b = np.arange(3*4*5*6)[::-1].reshape((5,4,6,3))"
   ]
  },
  {
   "cell_type": "code",
   "execution_count": 215,
   "id": "121aad6c-9405-4eec-bb52-aeb22135c4f3",
   "metadata": {
    "tags": []
   },
   "outputs": [
    {
     "data": {
      "text/plain": [
       "(3, 4, 5, 5, 4, 3)"
      ]
     },
     "execution_count": 215,
     "metadata": {},
     "output_type": "execute_result"
    }
   ],
   "source": [
    "x = a.dot(b)\n",
    "x.shape"
   ]
  },
  {
   "cell_type": "code",
   "execution_count": 217,
   "id": "68b1b044-7436-42a1-8f4a-7a7d5646ed56",
   "metadata": {
    "tags": []
   },
   "outputs": [],
   "source": [
    "a = np.ones([9, 5, 7, 4])\n",
    "c = np.ones([9, 5, 4, 3])\n",
    "x = a.dot(c)"
   ]
  },
  {
   "cell_type": "code",
   "execution_count": 218,
   "id": "54ad8d6f-5377-4f12-b0e4-9ff98f87c6e6",
   "metadata": {
    "tags": []
   },
   "outputs": [
    {
     "data": {
      "text/plain": [
       "(9, 5, 7, 9, 5, 3)"
      ]
     },
     "execution_count": 218,
     "metadata": {},
     "output_type": "execute_result"
    }
   ],
   "source": [
    "x.shape"
   ]
  },
  {
   "cell_type": "code",
   "execution_count": 241,
   "id": "c3f98b74-dc0c-4cd5-a89f-fd235a6e0444",
   "metadata": {
    "tags": []
   },
   "outputs": [],
   "source": [
    "self = np.random.rand(2, 3, 4)  # Shape: (2, 3, 4)\n",
    "w = np.random.rand(5, 4, 4, 2)  # Shape: (5, 4, 3, 2)"
   ]
  },
  {
   "cell_type": "code",
   "execution_count": 242,
   "id": "446818b1-5e01-4614-9a83-cf89860988be",
   "metadata": {
    "tags": []
   },
   "outputs": [
    {
     "data": {
      "text/plain": [
       "(5, 4, 1, 4, 2)"
      ]
     },
     "execution_count": 242,
     "metadata": {},
     "output_type": "execute_result"
    }
   ],
   "source": [
    "n1, n2 = len(self.shape), len(w.shape)\n",
    "assert n1 != 0 and n2 != 0, f\"both arguments to matmul need to be at least 1D, but they are {n1}D and {n2}D\"\n",
    "# assert (L:=self.shape[-1]) == (R:=w.shape[-min(n2, 2)]), f\"Input Tensor shapes {self.shape} and {w.shape} cannot be multiplied ({L} != {R})\"\n",
    "x = self.reshape(*self.shape[0:-1], *[1]*min(n1-1, n2-1, 1), self.shape[-1])\n",
    "w = w.reshape(*w.shape[0:-2], *[1]*min(n1-1, n2-1, 1), *w.shape[-min(n2, 2):])\n",
    "w.shape"
   ]
  },
  {
   "cell_type": "code",
   "execution_count": 246,
   "id": "c684acd0-7793-49b5-80b9-b2788260497a",
   "metadata": {
    "tags": []
   },
   "outputs": [],
   "source": [
    "w = w.transpose(0,1,2,4,3)"
   ]
  },
  {
   "cell_type": "code",
   "execution_count": 247,
   "id": "74b22b42-361f-40e9-b015-9d2c92d76fd9",
   "metadata": {
    "tags": []
   },
   "outputs": [
    {
     "data": {
      "text/plain": [
       "((2, 3, 1, 4), (5, 4, 1, 2, 4))"
      ]
     },
     "execution_count": 247,
     "metadata": {},
     "output_type": "execute_result"
    }
   ],
   "source": [
    "x.shape, w.shape"
   ]
  },
  {
   "cell_type": "code",
   "execution_count": 248,
   "id": "fb3ad095-2d05-45e2-a834-619d3ca447d4",
   "metadata": {
    "tags": []
   },
   "outputs": [
    {
     "ename": "ValueError",
     "evalue": "operands could not be broadcast together with shapes (2,3,1,4) (5,4,1,2,4) ",
     "output_type": "error",
     "traceback": [
      "\u001b[0;31m---------------------------------------------------------------------------\u001b[0m",
      "\u001b[0;31mValueError\u001b[0m                                Traceback (most recent call last)",
      "Cell \u001b[0;32mIn[248], line 1\u001b[0m\n\u001b[0;32m----> 1\u001b[0m x\u001b[38;5;241m*\u001b[39mw\n",
      "\u001b[0;31mValueError\u001b[0m: operands could not be broadcast together with shapes (2,3,1,4) (5,4,1,2,4) "
     ]
    }
   ],
   "source": [
    "x*w"
   ]
  },
  {
   "cell_type": "code",
   "execution_count": 250,
   "id": "0355ac8b-2cd3-497b-b9d6-da82bedc7611",
   "metadata": {
    "tags": []
   },
   "outputs": [],
   "source": [
    "from tinygrad import Tensor"
   ]
  },
  {
   "cell_type": "code",
   "execution_count": 291,
   "id": "1467d558-4e14-4c3a-b385-8e0e30a86596",
   "metadata": {
    "tags": []
   },
   "outputs": [
    {
     "ename": "AttributeError",
     "evalue": "'Tensor' object has no attribute '_broadcast_to'",
     "output_type": "error",
     "traceback": [
      "\u001b[0;31m---------------------------------------------------------------------------\u001b[0m",
      "\u001b[0;31mAttributeError\u001b[0m                            Traceback (most recent call last)",
      "Cell \u001b[0;32mIn[291], line 3\u001b[0m\n\u001b[1;32m      1\u001b[0m x \u001b[38;5;241m=\u001b[39m Tensor([\u001b[38;5;241m1\u001b[39m,\u001b[38;5;241m0\u001b[39m,\u001b[38;5;241m0\u001b[39m,\u001b[38;5;241m1\u001b[39m])\u001b[38;5;241m.\u001b[39mreshape(\u001b[38;5;241m2\u001b[39m,\u001b[38;5;241m2\u001b[39m)\n\u001b[1;32m      2\u001b[0m y \u001b[38;5;241m=\u001b[39m Tensor([\u001b[38;5;241m4\u001b[39m,\u001b[38;5;241m1\u001b[39m,\u001b[38;5;241m2\u001b[39m,\u001b[38;5;241m2\u001b[39m])\u001b[38;5;241m.\u001b[39mreshape(\u001b[38;5;241m2\u001b[39m,\u001b[38;5;241m2\u001b[39m)\n\u001b[0;32m----> 3\u001b[0m x\u001b[38;5;241m.\u001b[39m_broadcast_to((\u001b[38;5;241m2\u001b[39m,\u001b[38;5;241m2\u001b[39m,\u001b[38;5;241m2\u001b[39m))\n",
      "\u001b[0;31mAttributeError\u001b[0m: 'Tensor' object has no attribute '_broadcast_to'"
     ]
    }
   ],
   "source": [
    "x = Tensor([1,0,0,1]).reshape(2,2)\n",
    "y = Tensor([4,1,2,2]).reshape(2,2)\n",
    "x._broadcast_to((2,2,2))"
   ]
  },
  {
   "cell_type": "code",
   "execution_count": 259,
   "id": "304cf27e-7f23-48b7-a614-41f461d6af2b",
   "metadata": {
    "tags": []
   },
   "outputs": [
    {
     "data": {
      "text/plain": [
       "((4,), (5, 4, 4, 2))"
      ]
     },
     "execution_count": 259,
     "metadata": {},
     "output_type": "execute_result"
    }
   ],
   "source": [
    "a.shape, w.shape\n",
    "(1,1,1,4)\n",
    "(5,4,2,4)"
   ]
  },
  {
   "cell_type": "code",
   "execution_count": 265,
   "id": "6d572285-d0a6-426a-a1f2-498f7d5acafb",
   "metadata": {
    "tags": []
   },
   "outputs": [
    {
     "data": {
      "text/plain": [
       "(5, 4, 2, 4)"
      ]
     },
     "execution_count": 265,
     "metadata": {},
     "output_type": "execute_result"
    }
   ],
   "source": [
    "i =a*w\n",
    "i.shape"
   ]
  },
  {
   "cell_type": "code",
   "execution_count": 264,
   "id": "e1fd5a34-92c3-4220-ba36-6e2da37c9dc8",
   "metadata": {
    "tags": []
   },
   "outputs": [
    {
     "data": {
      "text/plain": [
       "<Tensor <LB METAL (5, 4, 2) contig:True ShapeTracker(views=(View(shape=(5, 4, 2), strides=(8, 2, 1), offset=0, mask=None, contiguous=True),))> on METAL with grad None>"
      ]
     },
     "execution_count": 264,
     "metadata": {},
     "output_type": "execute_result"
    }
   ],
   "source": [
    "i.sum(-1)"
   ]
  },
  {
   "cell_type": "code",
   "execution_count": 270,
   "id": "d28c1df1-3589-4e59-a639-d561cafe57ed",
   "metadata": {},
   "outputs": [
    {
     "data": {
      "text/plain": [
       "(array([1, 5]), (2,))"
      ]
     },
     "execution_count": 270,
     "metadata": {},
     "output_type": "execute_result"
    }
   ],
   "source": [
    "x = np.arange(4).reshape(2,2)\n",
    "\n",
    "y = x.sum(axis=0, keepdims=True)\n",
    "y.shape # (1,2)\n",
    "x = np.arange(4).reshape(2,2)\n",
    "y = x.sum(axis=1, keepdims=False)\n",
    "y, y.shape"
   ]
  },
  {
   "cell_type": "code",
   "execution_count": 278,
   "id": "12446a86-a9d6-485f-9c45-276d14b9e3b0",
   "metadata": {
    "tags": []
   },
   "outputs": [],
   "source": [
    "x = np.arange(2*3*4).reshape(2,3,4)\n",
    "y = x.sum(axis=2)"
   ]
  },
  {
   "cell_type": "code",
   "execution_count": 279,
   "id": "12902497-0cb3-479b-ae13-9643213ab9dc",
   "metadata": {
    "tags": []
   },
   "outputs": [
    {
     "data": {
      "text/plain": [
       "array([[[ 0,  1,  2,  3],\n",
       "        [ 4,  5,  6,  7],\n",
       "        [ 8,  9, 10, 11]],\n",
       "\n",
       "       [[12, 13, 14, 15],\n",
       "        [16, 17, 18, 19],\n",
       "        [20, 21, 22, 23]]])"
      ]
     },
     "execution_count": 279,
     "metadata": {},
     "output_type": "execute_result"
    }
   ],
   "source": [
    "x"
   ]
  },
  {
   "cell_type": "code",
   "execution_count": 280,
   "id": "74fc0a52-16d8-4a5c-995e-f5d746956ef5",
   "metadata": {
    "tags": []
   },
   "outputs": [
    {
     "data": {
      "text/plain": [
       "array([[ 6, 22, 38],\n",
       "       [54, 70, 86]])"
      ]
     },
     "execution_count": 280,
     "metadata": {},
     "output_type": "execute_result"
    }
   ],
   "source": [
    "y"
   ]
  },
  {
   "cell_type": "code",
   "execution_count": 286,
   "id": "12a30c85-9eed-459d-9b11-3fcac43f83ed",
   "metadata": {},
   "outputs": [
    {
     "data": {
      "text/plain": [
       "10"
      ]
     },
     "execution_count": 286,
     "metadata": {},
     "output_type": "execute_result"
    }
   ],
   "source": [
    "import operator\n",
    "from functools import reduce\n",
    "\n",
    "reduce(operator.add, (1,2,3,4))"
   ]
  },
  {
   "cell_type": "code",
   "execution_count": 296,
   "id": "dd836f8b-2712-4800-9cb2-8781180d519d",
   "metadata": {
    "tags": []
   },
   "outputs": [],
   "source": [
    "x = np.array([1,0,0,1]).reshape(2,1,2)\n",
    "y = np.array([4,2,2,2]).reshape(1,2,2)"
   ]
  },
  {
   "cell_type": "code",
   "execution_count": 306,
   "id": "def1ce84-084c-4a44-8084-133e6be9013b",
   "metadata": {
    "tags": []
   },
   "outputs": [],
   "source": [
    "x = np.broadcast_to(x, (2,2,2))\n"
   ]
  },
  {
   "cell_type": "code",
   "execution_count": 307,
   "id": "194a3ac9-3466-4b21-80cd-ba48a446c538",
   "metadata": {
    "tags": []
   },
   "outputs": [],
   "source": [
    "y = np.broadcast_to(y, (2,2,2))"
   ]
  },
  {
   "cell_type": "code",
   "execution_count": 309,
   "id": "4f376b65-2ed9-44c4-93a7-c8cbd499c4d3",
   "metadata": {
    "tags": []
   },
   "outputs": [
    {
     "data": {
      "text/plain": [
       "((2, 2, 2), (2, 2, 2), (16, 0, 8), (0, 16, 8), dtype('int64'))"
      ]
     },
     "execution_count": 309,
     "metadata": {},
     "output_type": "execute_result"
    }
   ],
   "source": [
    "x.shape, y.shape, x.strides, y.strides, x.dtype"
   ]
  },
  {
   "cell_type": "code",
   "execution_count": 300,
   "id": "5e0c1750-9f26-4b63-af0f-b70b73ceecb9",
   "metadata": {
    "tags": []
   },
   "outputs": [
    {
     "ename": "AttributeError",
     "evalue": "'numpy.broadcast' object has no attribute 'strides'",
     "output_type": "error",
     "traceback": [
      "\u001b[0;31m---------------------------------------------------------------------------\u001b[0m",
      "\u001b[0;31mAttributeError\u001b[0m                            Traceback (most recent call last)",
      "Cell \u001b[0;32mIn[300], line 1\u001b[0m\n\u001b[0;32m----> 1\u001b[0m z\u001b[38;5;241m.\u001b[39mstrides\n",
      "\u001b[0;31mAttributeError\u001b[0m: 'numpy.broadcast' object has no attribute 'strides'"
     ]
    }
   ],
   "source": [
    "z.strides"
   ]
  },
  {
   "cell_type": "code",
   "execution_count": null,
   "id": "41912418-9995-438c-abbc-e98db1478c68",
   "metadata": {},
   "outputs": [],
   "source": []
  }
 ],
 "metadata": {
  "kernelspec": {
   "display_name": "Python 3 (ipykernel)",
   "language": "python",
   "name": "python3"
  },
  "language_info": {
   "codemirror_mode": {
    "name": "ipython",
    "version": 3
   },
   "file_extension": ".py",
   "mimetype": "text/x-python",
   "name": "python",
   "nbconvert_exporter": "python",
   "pygments_lexer": "ipython3",
   "version": "3.11.5"
  }
 },
 "nbformat": 4,
 "nbformat_minor": 5
}
