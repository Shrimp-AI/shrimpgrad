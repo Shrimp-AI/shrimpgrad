{
 "cells": [
  {
   "cell_type": "code",
   "execution_count": 2,
   "id": "3a9ebb6b-130a-4b3d-b6eb-2bb3efbcf852",
   "metadata": {
    "tags": []
   },
   "outputs": [],
   "source": [
    "%load_ext autoreload\n",
    "%autoreload 2\n",
    "import numpy as np\n",
    "from tinygrad import Tensor\n",
    "import torch\n",
    "import shrimpgrad as sg"
   ]
  },
  {
   "cell_type": "code",
   "execution_count": null,
   "id": "f25975f0-52a4-40ef-8ce9-df0bcea2f03f",
   "metadata": {
    "tags": []
   },
   "outputs": [],
   "source": [
    "x = torch.arange(4, dtype=torch.float32).reshape(2,2)\n",
    "y = torch.eye(2,dtype=torch.float32)\n",
    "z = x.matmul(y)\n",
    "x, y, z"
   ]
  },
  {
   "cell_type": "code",
   "execution_count": 6,
   "id": "4c03cd9e-0a1b-4126-a87b-e5095a65e4f0",
   "metadata": {
    "tags": []
   },
   "outputs": [
    {
     "data": {
      "text/plain": [
       "(tensor([[0.0, 1.0], [2.0, 3.0]]),\n",
       " tensor([[1.0, 0.0], [0.0, 1.0]]),\n",
       " tensor([[0.0, 1.0], [2.0, 3.0]]))"
      ]
     },
     "execution_count": 6,
     "metadata": {},
     "output_type": "execute_result"
    }
   ],
   "source": [
    "x = sg.Tensor.arange(0, 4, dtype=sg.dtypes.float32).reshape(2,2)\n",
    "y = sg.Tensor.eye(2, dtype=sg.dtypes.float32)\n",
    "z = x.matmul(y)\n",
    "x, y, z"
   ]
  },
  {
   "cell_type": "code",
   "execution_count": null,
   "id": "2a4d2b49-74f1-48a6-b450-e1cbe2350a24",
   "metadata": {},
   "outputs": [],
   "source": []
  }
 ],
 "metadata": {
  "kernelspec": {
   "display_name": "Python 3 (ipykernel)",
   "language": "python",
   "name": "python3"
  },
  "language_info": {
   "codemirror_mode": {
    "name": "ipython",
    "version": 3
   },
   "file_extension": ".py",
   "mimetype": "text/x-python",
   "name": "python",
   "nbconvert_exporter": "python",
   "pygments_lexer": "ipython3",
   "version": "3.11.5"
  }
 },
 "nbformat": 4,
 "nbformat_minor": 5
}
