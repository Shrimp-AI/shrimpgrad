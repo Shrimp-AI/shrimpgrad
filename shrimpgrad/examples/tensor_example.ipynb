{
 "cells": [
  {
   "cell_type": "code",
   "execution_count": 62,
   "id": "3a9ebb6b-130a-4b3d-b6eb-2bb3efbcf852",
   "metadata": {
    "tags": []
   },
   "outputs": [
    {
     "name": "stdout",
     "output_type": "stream",
     "text": [
      "The autoreload extension is already loaded. To reload it, use:\n",
      "  %reload_ext autoreload\n"
     ]
    }
   ],
   "source": [
    "%load_ext autoreload\n",
    "%autoreload 2\n",
    "\n",
    "from shrimpgrad.tensor import Tensor\n",
    "import torch"
   ]
  },
  {
   "cell_type": "code",
   "execution_count": 63,
   "id": "37865f38-1b62-45ae-a9ed-51a2104f5e94",
   "metadata": {
    "tags": []
   },
   "outputs": [
    {
     "data": {
      "text/plain": [
       "tensor([[ 60,  70],\n",
       "        [160, 195]])"
      ]
     },
     "execution_count": 63,
     "metadata": {},
     "output_type": "execute_result"
    }
   ],
   "source": [
    "t1 = torch.arange(10).reshape(2,5)\n",
    "t2 = torch.arange(10).reshape(5,2)\n",
    "t1.matmul(t2)"
   ]
  },
  {
   "cell_type": "code",
   "execution_count": 64,
   "id": "fb2e5558-7663-42bd-91c9-8a52d41459bd",
   "metadata": {
    "tags": []
   },
   "outputs": [
    {
     "data": {
      "text/plain": [
       "tensor([[60.0, 70.0], [160.0, 195.0]])"
      ]
     },
     "execution_count": 64,
     "metadata": {},
     "output_type": "execute_result"
    }
   ],
   "source": [
    "t1 = Tensor.arange(10).reshape(2,5)\n",
    "t2 = Tensor.arange(10).reshape(5,2)\n",
    "t1.matmul(t2)\n"
   ]
  },
  {
   "cell_type": "code",
   "execution_count": 68,
   "id": "712dd597-c712-4871-add3-e1297a34e463",
   "metadata": {
    "tags": []
   },
   "outputs": [
    {
     "data": {
      "text/plain": [
       "tensor([[  5.,   6.,   7.,   8.,   9.],\n",
       "        [ 15.,  20.,  25.,  30.,  35.],\n",
       "        [ 25.,  34.,  43.,  52.,  61.],\n",
       "        [ 35.,  48.,  61.,  74.,  87.],\n",
       "        [ 45.,  62.,  79.,  96., 113.]])"
      ]
     },
     "execution_count": 68,
     "metadata": {},
     "output_type": "execute_result"
    }
   ],
   "source": [
    "t1 = torch.arange(10, dtype=torch.float32).reshape(5,2)\n",
    "t2 = torch.arange(10, dtype=torch.float32).reshape(2,5)\n",
    "t1.matmul(t2)"
   ]
  },
  {
   "cell_type": "code",
   "execution_count": 66,
   "id": "27e3005c-a8fb-4e34-baf8-2ee9ae52dfc9",
   "metadata": {},
   "outputs": [
    {
     "data": {
      "text/plain": [
       "tensor([[60.0, 70.0], [160.0, 195.0]])"
      ]
     },
     "execution_count": 66,
     "metadata": {},
     "output_type": "execute_result"
    }
   ],
   "source": [
    "# Add @ for matmul\n",
    "t1 = Tensor.arange(10).reshape(2,5)\n",
    "t2 = Tensor.arange(10).reshape(5,2)\n",
    "\n",
    "t1 @ t2\n"
   ]
  },
  {
   "cell_type": "code",
   "execution_count": 67,
   "id": "e1d6af78-0a6d-47b0-9e83-f25685aa3416",
   "metadata": {
    "tags": []
   },
   "outputs": [
    {
     "data": {
      "text/plain": [
       "tensor([[5.0, 6.0, 7.0, 8.0, 9.0],\n",
       " [15.0, 20.0, 25.0, 30.0, 35.0],\n",
       " [25.0, 34.0, 43.0, 52.0, 61.0],\n",
       " [35.0, 48.0, 61.0, 74.0, 87.0],\n",
       " [45.0, 62.0, 79.0, 96.0, 113.0]])"
      ]
     },
     "execution_count": 67,
     "metadata": {},
     "output_type": "execute_result"
    }
   ],
   "source": [
    "t2 @ t1"
   ]
  },
  {
   "cell_type": "code",
   "execution_count": 69,
   "id": "825324ad-ce38-4bdc-8276-f8be2cd81d8e",
   "metadata": {
    "tags": []
   },
   "outputs": [
    {
     "data": {
      "text/plain": [
       "torch.float32"
      ]
     },
     "execution_count": 69,
     "metadata": {},
     "output_type": "execute_result"
    }
   ],
   "source": [
    "# Dtype\n",
    "t1.dtype"
   ]
  },
  {
   "cell_type": "code",
   "execution_count": 70,
   "id": "bfb6e997-f9c2-4b76-ad76-db5f5b4727aa",
   "metadata": {
    "tags": []
   },
   "outputs": [
    {
     "data": {
      "text/plain": [
       "tensor([0, 1, 2, 3, 4, 5])"
      ]
     },
     "execution_count": 70,
     "metadata": {},
     "output_type": "execute_result"
    }
   ],
   "source": [
    "t1 = Tensor.arange(6, dtype=shrimp.dtypes.int32)\n",
    "t1"
   ]
  },
  {
   "cell_type": "code",
   "execution_count": 71,
   "id": "79fcbcb0-ef5d-4941-aae0-ac312fed2a10",
   "metadata": {
    "tags": []
   },
   "outputs": [
    {
     "data": {
      "text/plain": [
       "tensor([0.0, 1.0, 2.0, 3.0, 4.0, 5.0])"
      ]
     },
     "execution_count": 71,
     "metadata": {},
     "output_type": "execute_result"
    }
   ],
   "source": [
    "t2 = Tensor.arange(6, dtype=shrimp.dtypes.float32)\n",
    "t2"
   ]
  },
  {
   "cell_type": "code",
   "execution_count": 72,
   "id": "13fc3dc0-fa5d-4318-aa75-1137be1c8dd8",
   "metadata": {
    "tags": []
   },
   "outputs": [
    {
     "data": {
      "text/plain": [
       "tensor(55.0)"
      ]
     },
     "execution_count": 72,
     "metadata": {},
     "output_type": "execute_result"
    }
   ],
   "source": [
    "t1 @ t2"
   ]
  },
  {
   "cell_type": "code",
   "execution_count": 73,
   "id": "7f184798-d3ee-4a19-979d-82c650dfef83",
   "metadata": {
    "tags": []
   },
   "outputs": [
    {
     "data": {
      "text/plain": [
       "tensor([[3.0, 4.0, 5.0],\n",
       " [9.0, 14.0, 19.0],\n",
       " [15.0, 24.0, 33.0]])"
      ]
     },
     "execution_count": 73,
     "metadata": {},
     "output_type": "execute_result"
    }
   ],
   "source": [
    "t1.reshape(3,2) @ t2.reshape(2,3)"
   ]
  },
  {
   "cell_type": "code",
   "execution_count": 74,
   "id": "2dbabaec-cedb-4c79-94eb-3b794eabca37",
   "metadata": {
    "tags": []
   },
   "outputs": [
    {
     "data": {
      "text/plain": [
       "tensor([[0, 1], [2, 3], [4, 5]])"
      ]
     },
     "execution_count": 74,
     "metadata": {},
     "output_type": "execute_result"
    }
   ],
   "source": [
    "t1"
   ]
  },
  {
   "cell_type": "code",
   "execution_count": 75,
   "id": "e2f79f4e-0d2c-4632-87dd-b41914210355",
   "metadata": {
    "tags": []
   },
   "outputs": [
    {
     "data": {
      "text/plain": [
       "tensor([[4, 5]])"
      ]
     },
     "execution_count": 75,
     "metadata": {},
     "output_type": "execute_result"
    }
   ],
   "source": [
    "t1[-1]"
   ]
  },
  {
   "cell_type": "code",
   "execution_count": 76,
   "id": "9f09032b-4a0b-44cd-a69b-b64db5750b7d",
   "metadata": {
    "tags": []
   },
   "outputs": [
    {
     "data": {
      "text/plain": [
       "tensor([[5]])"
      ]
     },
     "execution_count": 76,
     "metadata": {},
     "output_type": "execute_result"
    }
   ],
   "source": [
    "t1[-1,-1]"
   ]
  }
 ],
 "metadata": {
  "kernelspec": {
   "display_name": "Python 3 (ipykernel)",
   "language": "python",
   "name": "python3"
  },
  "language_info": {
   "codemirror_mode": {
    "name": "ipython",
    "version": 3
   },
   "file_extension": ".py",
   "mimetype": "text/x-python",
   "name": "python",
   "nbconvert_exporter": "python",
   "pygments_lexer": "ipython3",
   "version": "3.11.5"
  }
 },
 "nbformat": 4,
 "nbformat_minor": 5
}
