{
 "cells": [
  {
   "cell_type": "code",
   "execution_count": 147,
   "id": "3a9ebb6b-130a-4b3d-b6eb-2bb3efbcf852",
   "metadata": {
    "tags": []
   },
   "outputs": [
    {
     "name": "stdout",
     "output_type": "stream",
     "text": [
      "The autoreload extension is already loaded. To reload it, use:\n",
      "  %reload_ext autoreload\n"
     ]
    }
   ],
   "source": [
    "%load_ext autoreload\n",
    "%autoreload 2\n",
    "\n",
    "from shrimpgrad.tensor import Tensor\n",
    "import torch"
   ]
  },
  {
   "cell_type": "code",
   "execution_count": 151,
   "id": "d3b1356a-3ce4-4985-aae1-3d2880232e61",
   "metadata": {
    "tags": []
   },
   "outputs": [
    {
     "data": {
      "text/plain": [
       "(tensor([0.0, 1.0]),\n",
       " tensor([0.0, 1.0]),\n",
       " tensor([0.0, 2.0]),\n",
       " tensor([0.0, 1.0]),\n",
       " tensor([1.0, 1.0]))"
      ]
     },
     "execution_count": 151,
     "metadata": {},
     "output_type": "execute_result"
    }
   ],
   "source": [
    "a = Tensor.arange(2)\n",
    "b = Tensor.arange(2)\n",
    "c = Tensor.arange(2)\n",
    "\n",
    "t = a+b\n",
    "d = t*c\n",
    "\n",
    "d.backward()\n",
    "a.grad, b.grad, c.grad, t.grad, d.grad"
   ]
  },
  {
   "cell_type": "code",
   "execution_count": null,
   "id": "108005cb-9304-44b4-a05f-ebc73bb6bd93",
   "metadata": {},
   "outputs": [],
   "source": []
  }
 ],
 "metadata": {
  "kernelspec": {
   "display_name": "Python 3 (ipykernel)",
   "language": "python",
   "name": "python3"
  },
  "language_info": {
   "codemirror_mode": {
    "name": "ipython",
    "version": 3
   },
   "file_extension": ".py",
   "mimetype": "text/x-python",
   "name": "python",
   "nbconvert_exporter": "python",
   "pygments_lexer": "ipython3",
   "version": "3.11.5"
  }
 },
 "nbformat": 4,
 "nbformat_minor": 5
}
