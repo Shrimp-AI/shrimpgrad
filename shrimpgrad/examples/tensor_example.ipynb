{
 "cells": [
  {
   "cell_type": "code",
   "execution_count": 92,
   "id": "3a9ebb6b-130a-4b3d-b6eb-2bb3efbcf852",
   "metadata": {
    "tags": []
   },
   "outputs": [
    {
     "name": "stdout",
     "output_type": "stream",
     "text": [
      "The autoreload extension is already loaded. To reload it, use:\n",
      "  %reload_ext autoreload\n"
     ]
    }
   ],
   "source": [
    "%load_ext autoreload\n",
    "%autoreload 2\n",
    "\n",
    "from shrimpgrad.tensor import Tensor\n",
    "import torch"
   ]
  },
  {
   "cell_type": "code",
   "execution_count": 63,
   "id": "37865f38-1b62-45ae-a9ed-51a2104f5e94",
   "metadata": {
    "tags": []
   },
   "outputs": [
    {
     "data": {
      "text/plain": [
       "tensor([[ 60,  70],\n",
       "        [160, 195]])"
      ]
     },
     "execution_count": 63,
     "metadata": {},
     "output_type": "execute_result"
    }
   ],
   "source": [
    "t1 = torch.arange(10).reshape(2,5)\n",
    "t2 = torch.arange(10).reshape(5,2)\n",
    "t1.matmul(t2)"
   ]
  },
  {
   "cell_type": "code",
   "execution_count": 64,
   "id": "fb2e5558-7663-42bd-91c9-8a52d41459bd",
   "metadata": {
    "tags": []
   },
   "outputs": [
    {
     "data": {
      "text/plain": [
       "tensor([[60.0, 70.0], [160.0, 195.0]])"
      ]
     },
     "execution_count": 64,
     "metadata": {},
     "output_type": "execute_result"
    }
   ],
   "source": [
    "t1 = Tensor.arange(10).reshape(2,5)\n",
    "t2 = Tensor.arange(10).reshape(5,2)\n",
    "t1.matmul(t2)\n"
   ]
  },
  {
   "cell_type": "code",
   "execution_count": 68,
   "id": "712dd597-c712-4871-add3-e1297a34e463",
   "metadata": {
    "tags": []
   },
   "outputs": [
    {
     "data": {
      "text/plain": [
       "tensor([[  5.,   6.,   7.,   8.,   9.],\n",
       "        [ 15.,  20.,  25.,  30.,  35.],\n",
       "        [ 25.,  34.,  43.,  52.,  61.],\n",
       "        [ 35.,  48.,  61.,  74.,  87.],\n",
       "        [ 45.,  62.,  79.,  96., 113.]])"
      ]
     },
     "execution_count": 68,
     "metadata": {},
     "output_type": "execute_result"
    }
   ],
   "source": [
    "t1 = torch.arange(10, dtype=torch.float32).reshape(5,2)\n",
    "t2 = torch.arange(10, dtype=torch.float32).reshape(2,5)\n",
    "t1.matmul(t2)"
   ]
  },
  {
   "cell_type": "code",
   "execution_count": 66,
   "id": "27e3005c-a8fb-4e34-baf8-2ee9ae52dfc9",
   "metadata": {},
   "outputs": [
    {
     "data": {
      "text/plain": [
       "tensor([[60.0, 70.0], [160.0, 195.0]])"
      ]
     },
     "execution_count": 66,
     "metadata": {},
     "output_type": "execute_result"
    }
   ],
   "source": [
    "# Add @ for matmul\n",
    "t1 = Tensor.arange(10).reshape(2,5)\n",
    "t2 = Tensor.arange(10).reshape(5,2)\n",
    "\n",
    "t1 @ t2\n"
   ]
  },
  {
   "cell_type": "code",
   "execution_count": 67,
   "id": "e1d6af78-0a6d-47b0-9e83-f25685aa3416",
   "metadata": {
    "tags": []
   },
   "outputs": [
    {
     "data": {
      "text/plain": [
       "tensor([[5.0, 6.0, 7.0, 8.0, 9.0],\n",
       " [15.0, 20.0, 25.0, 30.0, 35.0],\n",
       " [25.0, 34.0, 43.0, 52.0, 61.0],\n",
       " [35.0, 48.0, 61.0, 74.0, 87.0],\n",
       " [45.0, 62.0, 79.0, 96.0, 113.0]])"
      ]
     },
     "execution_count": 67,
     "metadata": {},
     "output_type": "execute_result"
    }
   ],
   "source": [
    "t2 @ t1"
   ]
  },
  {
   "cell_type": "code",
   "execution_count": 69,
   "id": "825324ad-ce38-4bdc-8276-f8be2cd81d8e",
   "metadata": {
    "tags": []
   },
   "outputs": [
    {
     "data": {
      "text/plain": [
       "torch.float32"
      ]
     },
     "execution_count": 69,
     "metadata": {},
     "output_type": "execute_result"
    }
   ],
   "source": [
    "# Dtype\n",
    "t1.dtype"
   ]
  },
  {
   "cell_type": "code",
   "execution_count": 70,
   "id": "bfb6e997-f9c2-4b76-ad76-db5f5b4727aa",
   "metadata": {
    "tags": []
   },
   "outputs": [
    {
     "data": {
      "text/plain": [
       "tensor([0, 1, 2, 3, 4, 5])"
      ]
     },
     "execution_count": 70,
     "metadata": {},
     "output_type": "execute_result"
    }
   ],
   "source": [
    "t1 = Tensor.arange(6, dtype=shrimp.dtypes.int32)\n",
    "t1"
   ]
  },
  {
   "cell_type": "code",
   "execution_count": 71,
   "id": "79fcbcb0-ef5d-4941-aae0-ac312fed2a10",
   "metadata": {
    "tags": []
   },
   "outputs": [
    {
     "data": {
      "text/plain": [
       "tensor([0.0, 1.0, 2.0, 3.0, 4.0, 5.0])"
      ]
     },
     "execution_count": 71,
     "metadata": {},
     "output_type": "execute_result"
    }
   ],
   "source": [
    "t2 = Tensor.arange(6, dtype=shrimp.dtypes.float32)\n",
    "t2"
   ]
  },
  {
   "cell_type": "code",
   "execution_count": 72,
   "id": "13fc3dc0-fa5d-4318-aa75-1137be1c8dd8",
   "metadata": {
    "tags": []
   },
   "outputs": [
    {
     "data": {
      "text/plain": [
       "tensor(55.0)"
      ]
     },
     "execution_count": 72,
     "metadata": {},
     "output_type": "execute_result"
    }
   ],
   "source": [
    "t1 @ t2"
   ]
  },
  {
   "cell_type": "code",
   "execution_count": 90,
   "id": "7f184798-d3ee-4a19-979d-82c650dfef83",
   "metadata": {
    "tags": []
   },
   "outputs": [
    {
     "data": {
      "text/plain": [
       "((3, 1, 2), (1, 2, 3))"
      ]
     },
     "execution_count": 90,
     "metadata": {},
     "output_type": "execute_result"
    }
   ],
   "source": [
    "t1.reshape(3,2) @ t2.reshape(2,3)\n",
    "\n",
    "n1, n2 = len(t1.shape), len(t2.shape)\n",
    "assert n1 != 0 and n2 != 0, f\"both arguments to matmul need to be at least 1D, but they are {n1}D and {n2}D\"\n",
    "assert (L:=t1.shape[-1]) == (R:=t2.shape[-min(n2, 2)]), f\"Input Tensor shapes {t1.shape} and {t2.shape} cannot be multiplied ({L} != {R})\"\n",
    "x = t1.reshape(*t1.shape[0:-1], *[1]*min(n1-1, n2-1, 1), t1.shape[-1])\n",
    "t2 = t2.reshape(*t2.shape[0:-2], *[1]*min(n1-1, n2-1, 1), *t2.shape[-min(n2, 2):]).transpose(-1, -min(n2, 2))\n",
    "t1.shape, t2.shape"
   ]
  },
  {
   "cell_type": "code",
   "execution_count": 74,
   "id": "2dbabaec-cedb-4c79-94eb-3b794eabca37",
   "metadata": {
    "tags": []
   },
   "outputs": [
    {
     "data": {
      "text/plain": [
       "tensor([[0, 1], [2, 3], [4, 5]])"
      ]
     },
     "execution_count": 74,
     "metadata": {},
     "output_type": "execute_result"
    }
   ],
   "source": [
    "t1"
   ]
  },
  {
   "cell_type": "code",
   "execution_count": 75,
   "id": "e2f79f4e-0d2c-4632-87dd-b41914210355",
   "metadata": {
    "tags": []
   },
   "outputs": [
    {
     "data": {
      "text/plain": [
       "tensor([[4, 5]])"
      ]
     },
     "execution_count": 75,
     "metadata": {},
     "output_type": "execute_result"
    }
   ],
   "source": [
    "t1[-1]"
   ]
  },
  {
   "cell_type": "code",
   "execution_count": 91,
   "id": "9f09032b-4a0b-44cd-a69b-b64db5750b7d",
   "metadata": {
    "tags": []
   },
   "outputs": [
    {
     "ename": "IndexError",
     "evalue": "index of -1 is out of bounds for dim with size 1",
     "output_type": "error",
     "traceback": [
      "\u001b[0;31m---------------------------------------------------------------------------\u001b[0m",
      "\u001b[0;31mIndexError\u001b[0m                                Traceback (most recent call last)",
      "Cell \u001b[0;32mIn[91], line 1\u001b[0m\n\u001b[0;32m----> 1\u001b[0m t1[\u001b[38;5;241m-\u001b[39m\u001b[38;5;241m1\u001b[39m,\u001b[38;5;241m-\u001b[39m\u001b[38;5;241m1\u001b[39m]\n",
      "File \u001b[0;32m~/anaconda3/lib/python3.11/site-packages/shrimpgrad/tensor.py:90\u001b[0m, in \u001b[0;36mTensor.__getitem__\u001b[0;34m(self, key)\u001b[0m\n\u001b[1;32m     88\u001b[0m \u001b[38;5;28;01mdef\u001b[39;00m \u001b[38;5;21m__getitem__\u001b[39m(\u001b[38;5;28mself\u001b[39m, key) \u001b[38;5;241m-\u001b[39m\u001b[38;5;241m>\u001b[39m Self:\n\u001b[1;32m     89\u001b[0m   \u001b[38;5;28;01mif\u001b[39;00m \u001b[38;5;129;01mnot\u001b[39;00m \u001b[38;5;28mlen\u001b[39m(\u001b[38;5;28mself\u001b[39m\u001b[38;5;241m.\u001b[39mshape): \u001b[38;5;28;01mraise\u001b[39;00m \u001b[38;5;167;01mIndexError\u001b[39;00m(\u001b[38;5;124m'\u001b[39m\u001b[38;5;124minvalid index of a 0-dim tensor. Use `tensor.item()`\u001b[39m\u001b[38;5;124m'\u001b[39m)\n\u001b[0;32m---> 90\u001b[0m   new_view \u001b[38;5;241m=\u001b[39m \u001b[38;5;28mself\u001b[39m\u001b[38;5;241m.\u001b[39m__build_view(key)\n\u001b[1;32m     91\u001b[0m   new_tensor \u001b[38;5;241m=\u001b[39m Tensor(\u001b[38;5;28mself\u001b[39m\u001b[38;5;241m.\u001b[39mshape, \u001b[38;5;28mself\u001b[39m\u001b[38;5;241m.\u001b[39mdata)\n\u001b[1;32m     92\u001b[0m   new_tensor\u001b[38;5;241m.\u001b[39mbase_view \u001b[38;5;241m=\u001b[39m new_view\n",
      "File \u001b[0;32m~/anaconda3/lib/python3.11/site-packages/shrimpgrad/tensor.py:46\u001b[0m, in \u001b[0;36mTensor.__build_view\u001b[0;34m(self, key)\u001b[0m\n\u001b[1;32m     44\u001b[0m \u001b[38;5;28;01mif\u001b[39;00m start \u001b[38;5;241m<\u001b[39m \u001b[38;5;241m0\u001b[39m:\n\u001b[1;32m     45\u001b[0m   \u001b[38;5;28;01mif\u001b[39;00m \u001b[38;5;28mabs\u001b[39m(start) \u001b[38;5;241m>\u001b[39m\u001b[38;5;241m=\u001b[39m \u001b[38;5;28mself\u001b[39m\u001b[38;5;241m.\u001b[39mshape[i]:\n\u001b[0;32m---> 46\u001b[0m     \u001b[38;5;28;01mraise\u001b[39;00m \u001b[38;5;167;01mIndexError\u001b[39;00m(\u001b[38;5;124mf\u001b[39m\u001b[38;5;124m'\u001b[39m\u001b[38;5;124mindex of \u001b[39m\u001b[38;5;132;01m{\u001b[39;00mstart\u001b[38;5;132;01m}\u001b[39;00m\u001b[38;5;124m is out of bounds for dim with size \u001b[39m\u001b[38;5;132;01m{\u001b[39;00m\u001b[38;5;28mself\u001b[39m\u001b[38;5;241m.\u001b[39mshape[i]\u001b[38;5;132;01m}\u001b[39;00m\u001b[38;5;124m'\u001b[39m)\n\u001b[1;32m     47\u001b[0m   k \u001b[38;5;241m=\u001b[39m \u001b[38;5;28mself\u001b[39m\u001b[38;5;241m.\u001b[39mshape[i] \u001b[38;5;241m+\u001b[39m start\n\u001b[1;32m     48\u001b[0m start, end \u001b[38;5;241m=\u001b[39m k, k \u001b[38;5;241m+\u001b[39m \u001b[38;5;241m1\u001b[39m\n",
      "\u001b[0;31mIndexError\u001b[0m: index of -1 is out of bounds for dim with size 1"
     ]
    }
   ],
   "source": [
    "t1[-1,-1]"
   ]
  },
  {
   "cell_type": "code",
   "execution_count": 113,
   "id": "d2067d19-5371-4b16-b381-14e1fc188f43",
   "metadata": {
    "tags": []
   },
   "outputs": [
    {
     "data": {
      "text/plain": [
       "(tensor(9000), tensor(9000))"
      ]
     },
     "execution_count": 113,
     "metadata": {},
     "output_type": "execute_result"
    }
   ],
   "source": [
    "x0 = torch.arange(3*3*4)\n",
    "x = x0.reshape(3,4,3)\n",
    "w = torch.arange(5*3*3*4).reshape(5,3,3,4)\n",
    "\n",
    "x[0,0,0] = 9000\n",
    "\n",
    "x[0,0,0], x0[0]"
   ]
  },
  {
   "cell_type": "code",
   "execution_count": 108,
   "id": "2b277d39-4622-4b62-a872-940a4be08f0c",
   "metadata": {
    "tags": []
   },
   "outputs": [
    {
     "data": {
      "text/plain": [
       "tensor([[[[   20,    23,    26,    29],\n",
       "          [   56,    68,    80,    92],\n",
       "          [   92,   113,   134,   155],\n",
       "          [  128,   158,   188,   218]],\n",
       "\n",
       "         [[  632,   671,   710,   749],\n",
       "          [  776,   824,   872,   920],\n",
       "          [  920,   977,  1034,  1091],\n",
       "          [ 1064,  1130,  1196,  1262]],\n",
       "\n",
       "         [[ 2108,  2183,  2258,  2333],\n",
       "          [ 2360,  2444,  2528,  2612],\n",
       "          [ 2612,  2705,  2798,  2891],\n",
       "          [ 2864,  2966,  3068,  3170]]],\n",
       "\n",
       "\n",
       "        [[[  128,   131,   134,   137],\n",
       "          [  488,   500,   512,   524],\n",
       "          [  848,   869,   890,   911],\n",
       "          [ 1208,  1238,  1268,  1298]],\n",
       "\n",
       "         [[ 2036,  2075,  2114,  2153],\n",
       "          [ 2504,  2552,  2600,  2648],\n",
       "          [ 2972,  3029,  3086,  3143],\n",
       "          [ 3440,  3506,  3572,  3638]],\n",
       "\n",
       "         [[ 4808,  4883,  4958,  5033],\n",
       "          [ 5384,  5468,  5552,  5636],\n",
       "          [ 5960,  6053,  6146,  6239],\n",
       "          [ 6536,  6638,  6740,  6842]]],\n",
       "\n",
       "\n",
       "        [[[  236,   239,   242,   245],\n",
       "          [  920,   932,   944,   956],\n",
       "          [ 1604,  1625,  1646,  1667],\n",
       "          [ 2288,  2318,  2348,  2378]],\n",
       "\n",
       "         [[ 3440,  3479,  3518,  3557],\n",
       "          [ 4232,  4280,  4328,  4376],\n",
       "          [ 5024,  5081,  5138,  5195],\n",
       "          [ 5816,  5882,  5948,  6014]],\n",
       "\n",
       "         [[ 7508,  7583,  7658,  7733],\n",
       "          [ 8408,  8492,  8576,  8660],\n",
       "          [ 9308,  9401,  9494,  9587],\n",
       "          [10208, 10310, 10412, 10514]]],\n",
       "\n",
       "\n",
       "        [[[  344,   347,   350,   353],\n",
       "          [ 1352,  1364,  1376,  1388],\n",
       "          [ 2360,  2381,  2402,  2423],\n",
       "          [ 3368,  3398,  3428,  3458]],\n",
       "\n",
       "         [[ 4844,  4883,  4922,  4961],\n",
       "          [ 5960,  6008,  6056,  6104],\n",
       "          [ 7076,  7133,  7190,  7247],\n",
       "          [ 8192,  8258,  8324,  8390]],\n",
       "\n",
       "         [[10208, 10283, 10358, 10433],\n",
       "          [11432, 11516, 11600, 11684],\n",
       "          [12656, 12749, 12842, 12935],\n",
       "          [13880, 13982, 14084, 14186]]],\n",
       "\n",
       "\n",
       "        [[[  452,   455,   458,   461],\n",
       "          [ 1784,  1796,  1808,  1820],\n",
       "          [ 3116,  3137,  3158,  3179],\n",
       "          [ 4448,  4478,  4508,  4538]],\n",
       "\n",
       "         [[ 6248,  6287,  6326,  6365],\n",
       "          [ 7688,  7736,  7784,  7832],\n",
       "          [ 9128,  9185,  9242,  9299],\n",
       "          [10568, 10634, 10700, 10766]],\n",
       "\n",
       "         [[12908, 12983, 13058, 13133],\n",
       "          [14456, 14540, 14624, 14708],\n",
       "          [16004, 16097, 16190, 16283],\n",
       "          [17552, 17654, 17756, 17858]]]])"
      ]
     },
     "execution_count": 108,
     "metadata": {},
     "output_type": "execute_result"
    }
   ],
   "source": [
    "x @ w"
   ]
  },
  {
   "cell_type": "code",
   "execution_count": null,
   "id": "af854dd1-0114-487e-af0e-c67b7d618272",
   "metadata": {},
   "outputs": [],
   "source": []
  }
 ],
 "metadata": {
  "kernelspec": {
   "display_name": "Python 3 (ipykernel)",
   "language": "python",
   "name": "python3"
  },
  "language_info": {
   "codemirror_mode": {
    "name": "ipython",
    "version": 3
   },
   "file_extension": ".py",
   "mimetype": "text/x-python",
   "name": "python",
   "nbconvert_exporter": "python",
   "pygments_lexer": "ipython3",
   "version": "3.11.5"
  }
 },
 "nbformat": 4,
 "nbformat_minor": 5
}
