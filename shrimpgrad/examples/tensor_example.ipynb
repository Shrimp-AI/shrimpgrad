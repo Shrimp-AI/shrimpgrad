{
 "cells": [
  {
   "cell_type": "code",
   "execution_count": 342,
   "id": "3a9ebb6b-130a-4b3d-b6eb-2bb3efbcf852",
   "metadata": {
    "tags": []
   },
   "outputs": [
    {
     "name": "stdout",
     "output_type": "stream",
     "text": [
      "The autoreload extension is already loaded. To reload it, use:\n",
      "  %reload_ext autoreload\n"
     ]
    }
   ],
   "source": [
    "%load_ext autoreload\n",
    "%autoreload 2\n",
    "import numpy as np\n",
    "!export METAL_XCODE=1\n",
    "!export DISABLE_COMPILER_CACHE=1\n",
    "from tinygrad import Tensor"
   ]
  },
  {
   "cell_type": "code",
   "execution_count": 335,
   "id": "0355ac8b-2cd3-497b-b9d6-da82bedc7611",
   "metadata": {
    "tags": []
   },
   "outputs": [],
   "source": []
  },
  {
   "cell_type": "code",
   "execution_count": 344,
   "id": "1467d558-4e14-4c3a-b385-8e0e30a86596",
   "metadata": {
    "tags": []
   },
   "outputs": [
    {
     "data": {
      "text/plain": [
       "<Tensor <LB METAL (2, 2) int ShapeTracker(views=(View(shape=(2, 2), strides=(2, 1), offset=0, mask=None, contiguous=True),))> on METAL with grad None>"
      ]
     },
     "execution_count": 344,
     "metadata": {},
     "output_type": "execute_result"
    }
   ],
   "source": [
    "x = Tensor([1,0,0,1]).reshape(2,2)\n",
    "y = Tensor([4,1,2,2]).reshape(2,2)\n",
    "x.dot(y)"
   ]
  },
  {
   "cell_type": "code",
   "execution_count": null,
   "id": "dfc6f531-f6a0-45c1-8902-45dcaeb92c0a",
   "metadata": {},
   "outputs": [],
   "source": []
  }
 ],
 "metadata": {
  "kernelspec": {
   "display_name": "Python 3 (ipykernel)",
   "language": "python",
   "name": "python3"
  },
  "language_info": {
   "codemirror_mode": {
    "name": "ipython",
    "version": 3
   },
   "file_extension": ".py",
   "mimetype": "text/x-python",
   "name": "python",
   "nbconvert_exporter": "python",
   "pygments_lexer": "ipython3",
   "version": "3.11.5"
  }
 },
 "nbformat": 4,
 "nbformat_minor": 5
}
