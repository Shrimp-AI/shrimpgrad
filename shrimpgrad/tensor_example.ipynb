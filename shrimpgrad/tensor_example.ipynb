{
 "cells": [
  {
   "cell_type": "code",
   "execution_count": 2,
   "id": "3a9ebb6b-130a-4b3d-b6eb-2bb3efbcf852",
   "metadata": {
    "tags": []
   },
   "outputs": [],
   "source": [
    "%load_ext autoreload\n",
    "%autoreload 2\n",
    "\n",
    "import tensor as shrimp\n"
   ]
  },
  {
   "cell_type": "code",
   "execution_count": 127,
   "id": "3d8dc7cf-dcae-4864-925d-0a9cc8ad2964",
   "metadata": {
    "tags": []
   },
   "outputs": [],
   "source": [
    "t = arange(64,(4,4,4))"
   ]
  },
  {
   "cell_type": "code",
   "execution_count": 129,
   "id": "afd12294-1e77-4b84-bdcf-24ac4e04fe92",
   "metadata": {
    "tags": []
   },
   "outputs": [
    {
     "data": {
      "text/plain": [
       "(tensor([[[0, 1, 2, 3], [4, 5, 6, 7], [8, 9, 10, 11], [12, 13, 14, 15]],\n",
       "  [[16, 17, 18, 19], [20, 21, 22, 23], [24, 25, 26, 27], [28, 29, 30, 31]],\n",
       "  [[32, 33, 34, 35], [36, 37, 38, 39], [40, 41, 42, 43], [44, 45, 46, 47]],\n",
       "  [[48, 49, 50, 51], [52, 53, 54, 55], [56, 57, 58, 59], [60, 61, 62, 63]]]),\n",
       " tensor([[[21, 22, 23], [25, 26, 27], [29, 30, 31]],\n",
       "  [[37, 38, 39], [41, 42, 43], [45, 46, 47]],\n",
       "  [[53, 54, 55], [57, 58, 59], [61, 62, 63]]]))"
      ]
     },
     "execution_count": 129,
     "metadata": {},
     "output_type": "execute_result"
    }
   ],
   "source": [
    "t, t[1:,1:,1:]"
   ]
  },
  {
   "cell_type": "code",
   "execution_count": 130,
   "id": "0127185b-f290-448a-8409-259b19136031",
   "metadata": {
    "tags": []
   },
   "outputs": [
    {
     "data": {
      "text/plain": [
       "tensor([[[0, 1, 2, 3], [4, 5, 6, 7], [8, 9, 10, 11], [12, 13, 14, 15]]])"
      ]
     },
     "execution_count": 130,
     "metadata": {},
     "output_type": "execute_result"
    }
   ],
   "source": [
    "t[0]"
   ]
  },
  {
   "cell_type": "code",
   "execution_count": 131,
   "id": "6071ca3e-c327-472b-940b-78c93398fda4",
   "metadata": {
    "tags": []
   },
   "outputs": [
    {
     "data": {
      "text/plain": [
       "tensor([[[48, 49, 50, 51], [52, 53, 54, 55], [56, 57, 58, 59], [60, 61, 62, 63]]])"
      ]
     },
     "execution_count": 131,
     "metadata": {},
     "output_type": "execute_result"
    }
   ],
   "source": [
    "t[-1]"
   ]
  },
  {
   "cell_type": "code",
   "execution_count": 134,
   "id": "7089b4f5-6892-4f92-8ee1-c492bbe31d75",
   "metadata": {
    "tags": []
   },
   "outputs": [
    {
     "data": {
      "text/plain": [
       "tensor([[[48, 49, 50, 51], [52, 53, 54, 55], [56, 57, 58, 59], [60, 61, 62, 63]]])"
      ]
     },
     "execution_count": 134,
     "metadata": {},
     "output_type": "execute_result"
    }
   ],
   "source": [
    "t[3:] # Fix"
   ]
  },
  {
   "cell_type": "code",
   "execution_count": 154,
   "id": "d7a82c83-1483-4f31-88d7-a4c22d8af148",
   "metadata": {
    "tags": []
   },
   "outputs": [],
   "source": [
    "t = torch.arange(64).reshape(4,4,4)[3:]"
   ]
  },
  {
   "cell_type": "code",
   "execution_count": 155,
   "id": "c5fcb776-f1f9-4c91-99c8-fdaee9421e65",
   "metadata": {
    "tags": []
   },
   "outputs": [
    {
     "ename": "RuntimeError",
     "evalue": "a Tensor with 16 elements cannot be converted to Scalar",
     "output_type": "error",
     "traceback": [
      "\u001b[0;31m---------------------------------------------------------------------------\u001b[0m",
      "\u001b[0;31mRuntimeError\u001b[0m                              Traceback (most recent call last)",
      "Cell \u001b[0;32mIn[155], line 1\u001b[0m\n\u001b[0;32m----> 1\u001b[0m t\u001b[38;5;241m.\u001b[39mitem()\n",
      "\u001b[0;31mRuntimeError\u001b[0m: a Tensor with 16 elements cannot be converted to Scalar"
     ]
    }
   ],
   "source": [
    "t.item()"
   ]
  },
  {
   "cell_type": "code",
   "execution_count": 138,
   "id": "62e2fd71-3eda-464d-b23a-ddcefbe3b152",
   "metadata": {
    "tags": []
   },
   "outputs": [
    {
     "ename": "IndexOutOfBounds",
     "evalue": "Index out of bounds: 4 <= 4",
     "output_type": "error",
     "traceback": [
      "\u001b[0;31m---------------------------------------------------------------------------\u001b[0m",
      "\u001b[0;31mIndexOutOfBounds\u001b[0m                          Traceback (most recent call last)",
      "Cell \u001b[0;32mIn[138], line 1\u001b[0m\n\u001b[0;32m----> 1\u001b[0m t[\u001b[38;5;241m4\u001b[39m]\n",
      "File \u001b[0;32m~/anaconda3/lib/python3.11/site-packages/shrimpgrad/tensor.py:86\u001b[0m, in \u001b[0;36mTensor.__getitem__\u001b[0;34m(self, key)\u001b[0m\n\u001b[1;32m     85\u001b[0m \u001b[38;5;28;01mdef\u001b[39;00m \u001b[38;5;21m__getitem__\u001b[39m(\u001b[38;5;28mself\u001b[39m, key) \u001b[38;5;241m-\u001b[39m\u001b[38;5;241m>\u001b[39m Self:\n\u001b[0;32m---> 86\u001b[0m   new_view \u001b[38;5;241m=\u001b[39m \u001b[38;5;28mself\u001b[39m\u001b[38;5;241m.\u001b[39m__build_view(key)\n\u001b[1;32m     87\u001b[0m   new_tensor \u001b[38;5;241m=\u001b[39m Tensor(\u001b[38;5;28mself\u001b[39m\u001b[38;5;241m.\u001b[39mshape, \u001b[38;5;28mself\u001b[39m\u001b[38;5;241m.\u001b[39mdata)\n\u001b[1;32m     88\u001b[0m   new_tensor\u001b[38;5;241m.\u001b[39mbase_view \u001b[38;5;241m=\u001b[39m new_view\n",
      "File \u001b[0;32m~/anaconda3/lib/python3.11/site-packages/shrimpgrad/tensor.py:44\u001b[0m, in \u001b[0;36mTensor.__build_view\u001b[0;34m(self, key)\u001b[0m\n\u001b[1;32m     42\u001b[0m \u001b[38;5;28;01mif\u001b[39;00m \u001b[38;5;28misinstance\u001b[39m(k, \u001b[38;5;28mint\u001b[39m):\n\u001b[1;32m     43\u001b[0m   \u001b[38;5;28;01mif\u001b[39;00m k \u001b[38;5;241m>\u001b[39m\u001b[38;5;241m=\u001b[39m \u001b[38;5;28mself\u001b[39m\u001b[38;5;241m.\u001b[39mshape[i]: \n\u001b[0;32m---> 44\u001b[0m     \u001b[38;5;28;01mraise\u001b[39;00m IndexOutOfBounds(\u001b[38;5;124mf\u001b[39m\u001b[38;5;124m'\u001b[39m\u001b[38;5;124mIndex out of bounds: \u001b[39m\u001b[38;5;132;01m{\u001b[39;00m\u001b[38;5;28mself\u001b[39m\u001b[38;5;241m.\u001b[39mshape[i]\u001b[38;5;132;01m}\u001b[39;00m\u001b[38;5;124m <= \u001b[39m\u001b[38;5;132;01m{\u001b[39;00mk\u001b[38;5;132;01m}\u001b[39;00m\u001b[38;5;124m'\u001b[39m)\n\u001b[1;32m     45\u001b[0m   start \u001b[38;5;241m=\u001b[39m k\n\u001b[1;32m     46\u001b[0m   \u001b[38;5;28;01mif\u001b[39;00m start \u001b[38;5;241m<\u001b[39m \u001b[38;5;241m0\u001b[39m:\n",
      "\u001b[0;31mIndexOutOfBounds\u001b[0m: Index out of bounds: 4 <= 4"
     ]
    }
   ],
   "source": [
    "t[4]"
   ]
  },
  {
   "cell_type": "code",
   "execution_count": 140,
   "id": "efb2e5b8-ed7d-4de9-9de8-f5e2e7432324",
   "metadata": {
    "tags": []
   },
   "outputs": [
    {
     "ename": "RuntimeError",
     "evalue": "inconsistent tensor size, expected tensor [10] and src [9] to have the same number of elements, but got 10 and 9 elements respectively",
     "output_type": "error",
     "traceback": [
      "\u001b[0;31m---------------------------------------------------------------------------\u001b[0m",
      "\u001b[0;31mRuntimeError\u001b[0m                              Traceback (most recent call last)",
      "Cell \u001b[0;32mIn[140], line 3\u001b[0m\n\u001b[1;32m      1\u001b[0m t1 \u001b[38;5;241m=\u001b[39m torch\u001b[38;5;241m.\u001b[39marange(\u001b[38;5;241m10\u001b[39m)\n\u001b[1;32m      2\u001b[0m t2 \u001b[38;5;241m=\u001b[39m torch\u001b[38;5;241m.\u001b[39marange(\u001b[38;5;241m9\u001b[39m)\n\u001b[0;32m----> 3\u001b[0m t1\u001b[38;5;241m.\u001b[39mmatmul(t2)\n",
      "\u001b[0;31mRuntimeError\u001b[0m: inconsistent tensor size, expected tensor [10] and src [9] to have the same number of elements, but got 10 and 9 elements respectively"
     ]
    }
   ],
   "source": [
    "t1 = torch.arange(10)\n",
    "t2 = torch.arange(9)\n",
    "t1.matmul(t2)"
   ]
  },
  {
   "cell_type": "code",
   "execution_count": 238,
   "id": "37865f38-1b62-45ae-a9ed-51a2104f5e94",
   "metadata": {
    "tags": []
   },
   "outputs": [
    {
     "name": "stdout",
     "output_type": "stream",
     "text": [
      "tensor([0, 1, 2, 3, 4, 5, 6, 7, 8, 9])\n"
     ]
    },
    {
     "data": {
      "text/plain": [
       "285"
      ]
     },
     "execution_count": 238,
     "metadata": {},
     "output_type": "execute_result"
    }
   ],
   "source": [
    "t1 = torch.arange(10)\n",
    "print(t1)\n",
    "t2 = torch.arange(10)\n",
    "t3 = t1.matmul(t2)\n",
    "t3.item()"
   ]
  },
  {
   "cell_type": "code",
   "execution_count": 5,
   "id": "fb2e5558-7663-42bd-91c9-8a52d41459bd",
   "metadata": {
    "tags": []
   },
   "outputs": [
    {
     "data": {
      "text/plain": [
       "[0, 1, 2, 3, 4, 5, 6, 7, 8, 9]"
      ]
     },
     "execution_count": 5,
     "metadata": {},
     "output_type": "execute_result"
    }
   ],
   "source": [
    "t1 = shrimp.arange(10).reshape(5,2)\n",
    "t2 = shrimp.arange(10).reshape(2,5)\n",
    "t1.data\n",
    "t2.data\n",
    "(ctypes.c_int * t1.size)(*a.data)"
   ]
  },
  {
   "cell_type": "code",
   "execution_count": 202,
   "id": "712dd597-c712-4871-add3-e1297a34e463",
   "metadata": {
    "tags": []
   },
   "outputs": [
    {
     "data": {
      "text/plain": [
       "tensor([[0, 1, 2, 3, 4, 5, 6, 7, 8, 9]])"
      ]
     },
     "execution_count": 202,
     "metadata": {},
     "output_type": "execute_result"
    }
   ],
   "source": [
    "t1 = torch.arange(10).reshape(1,10)\n",
    "t1"
   ]
  },
  {
   "cell_type": "code",
   "execution_count": null,
   "id": "27e3005c-a8fb-4e34-baf8-2ee9ae52dfc9",
   "metadata": {},
   "outputs": [],
   "source": []
  }
 ],
 "metadata": {
  "kernelspec": {
   "display_name": "Python 3 (ipykernel)",
   "language": "python",
   "name": "python3"
  },
  "language_info": {
   "codemirror_mode": {
    "name": "ipython",
    "version": 3
   },
   "file_extension": ".py",
   "mimetype": "text/x-python",
   "name": "python",
   "nbconvert_exporter": "python",
   "pygments_lexer": "ipython3",
   "version": "3.11.5"
  }
 },
 "nbformat": 4,
 "nbformat_minor": 5
}
